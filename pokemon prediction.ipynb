{
 "cells": [
  {
   "cell_type": "code",
   "execution_count": 1,
   "metadata": {},
   "outputs": [
    {
     "name": "stderr",
     "output_type": "stream",
     "text": [
      "\n",
      "Attaching package: 'dplyr'\n",
      "\n",
      "The following objects are masked from 'package:stats':\n",
      "\n",
      "    filter, lag\n",
      "\n",
      "The following objects are masked from 'package:base':\n",
      "\n",
      "    intersect, setdiff, setequal, union\n",
      "\n",
      "Warning message:\n",
      "\"package 'rpart' was built under R version 3.6.2\"\n",
      "Attaching package: 'data.table'\n",
      "\n",
      "The following objects are masked from 'package:dplyr':\n",
      "\n",
      "    between, first, last\n",
      "\n",
      "randomForest 4.6-14\n",
      "Type rfNews() to see new features/changes/bug fixes.\n",
      "\n",
      "Attaching package: 'randomForest'\n",
      "\n",
      "The following object is masked from 'package:ggplot2':\n",
      "\n",
      "    margin\n",
      "\n",
      "The following object is masked from 'package:dplyr':\n",
      "\n",
      "    combine\n",
      "\n",
      "corrplot 0.84 loaded\n",
      "Warning message:\n",
      "\"package 'StatMeasures' was built under R version 3.6.2\"Warning message:\n",
      "\"package 'rpart.plot' was built under R version 3.6.2\"Loading required package: lattice\n"
     ]
    }
   ],
   "source": [
    "library(dplyr)\n",
    "library(ggplot2)\n",
    "library(rpart)\n",
    "library(data.table)\n",
    "library(randomForest)\n",
    "library(corrplot)\n",
    "library(StatMeasures)\n",
    "library(rpart.plot)\n",
    "library(caret)"
   ]
  },
  {
   "cell_type": "code",
   "execution_count": 2,
   "metadata": {},
   "outputs": [],
   "source": [
    "data <- read.csv('D:/DOCUMENT/R/Personaldata/pokemon_alopez247.csv')"
   ]
  },
  {
   "cell_type": "code",
   "execution_count": 3,
   "metadata": {},
   "outputs": [
    {
     "data": {
      "text/plain": [
       "     Number            Name         Type_1         Type_2        Total      \n",
       " Min.   :  1   Abomasnow :  1   Water  :105           :371   Min.   :180.0  \n",
       " 1st Qu.:181   Abra      :  1   Normal : 93   Flying  : 87   1st Qu.:320.0  \n",
       " Median :361   Absol     :  1   Grass  : 66   Poison  : 31   Median :424.0  \n",
       " Mean   :361   Accelgor  :  1   Bug    : 63   Ground  : 30   Mean   :417.9  \n",
       " 3rd Qu.:541   Aegislash :  1   Fire   : 47   Psychic : 27   3rd Qu.:499.0  \n",
       " Max.   :721   Aerodactyl:  1   Psychic: 47   Fighting: 19   Max.   :720.0  \n",
       "               (Other)   :715   (Other):300   (Other) :156                  \n",
       "       HP             Attack          Defense           Sp_Atk      \n",
       " Min.   :  1.00   Min.   :  5.00   Min.   :  5.00   Min.   : 10.00  \n",
       " 1st Qu.: 50.00   1st Qu.: 53.00   1st Qu.: 50.00   1st Qu.: 45.00  \n",
       " Median : 65.00   Median : 74.00   Median : 65.00   Median : 65.00  \n",
       " Mean   : 68.38   Mean   : 75.01   Mean   : 70.81   Mean   : 68.74  \n",
       " 3rd Qu.: 80.00   3rd Qu.: 95.00   3rd Qu.: 85.00   3rd Qu.: 90.00  \n",
       " Max.   :255.00   Max.   :165.00   Max.   :230.00   Max.   :154.00  \n",
       "                                                                    \n",
       "     Sp_Def           Speed          Generation    isLegendary     Color    \n",
       " Min.   : 20.00   Min.   :  5.00   Min.   :1.000   False:675   Blue   :134  \n",
       " 1st Qu.: 50.00   1st Qu.: 45.00   1st Qu.:2.000   True : 46   Brown  :110  \n",
       " Median : 65.00   Median : 65.00   Median :3.000               Green  : 79  \n",
       " Mean   : 69.29   Mean   : 65.71   Mean   :3.323               Red    : 75  \n",
       " 3rd Qu.: 85.00   3rd Qu.: 85.00   3rd Qu.:5.000               Grey   : 69  \n",
       " Max.   :230.00   Max.   :160.00   Max.   :6.000               Purple : 65  \n",
       "                                                               (Other):189  \n",
       " hasGender      Pr_Male             Egg_Group_1      Egg_Group_2 \n",
       " False: 77   Min.   :0.0000   Field       :169             :530  \n",
       " True :644   1st Qu.:0.5000   Monster     : 74   Dragon    : 35  \n",
       "             Median :0.5000   Water_1     : 74   Grass     : 32  \n",
       "             Mean   :0.5534   Undiscovered: 73   Field     : 31  \n",
       "             3rd Qu.:0.5000   Bug         : 66   Fairy     : 17  \n",
       "             Max.   :1.0000   Mineral     : 46   Human-Like: 15  \n",
       "             NA's   :77       (Other)     :219   (Other)   : 61  \n",
       " hasMegaEvolution    Height_m        Weight_kg        Catch_Rate   \n",
       " False:675        Min.   : 0.100   Min.   :  0.10   Min.   :  3.0  \n",
       " True : 46        1st Qu.: 0.610   1st Qu.:  9.40   1st Qu.: 45.0  \n",
       "                  Median : 0.990   Median : 28.00   Median : 65.0  \n",
       "                  Mean   : 1.145   Mean   : 56.77   Mean   :100.2  \n",
       "                  3rd Qu.: 1.400   3rd Qu.: 61.00   3rd Qu.:180.0  \n",
       "                  Max.   :14.500   Max.   :950.00   Max.   :255.0  \n",
       "                                                                   \n",
       "            Body_Style \n",
       " bipedal_tailed  :158  \n",
       " quadruped       :135  \n",
       " bipedal_tailless:109  \n",
       " two_wings       : 63  \n",
       " head_arms       : 39  \n",
       " head_only       : 34  \n",
       " (Other)         :183  "
      ]
     },
     "metadata": {},
     "output_type": "display_data"
    }
   ],
   "source": [
    "summary(data)"
   ]
  },
  {
   "cell_type": "code",
   "execution_count": 4,
   "metadata": {},
   "outputs": [
    {
     "name": "stdout",
     "output_type": "stream",
     "text": [
      "'data.frame':\t721 obs. of  23 variables:\n",
      " $ Number          : int  1 2 3 4 5 6 7 8 9 10 ...\n",
      " $ Name            : Factor w/ 721 levels \"Abomasnow\",\"Abra\",..: 68 295 670 87 88 86 595 688 54 82 ...\n",
      " $ Type_1          : Factor w/ 18 levels \"Bug\",\"Dark\",\"Dragon\",..: 10 10 10 7 7 7 18 18 18 1 ...\n",
      " $ Type_2          : Factor w/ 19 levels \"\",\"Bug\",\"Dark\",..: 15 15 15 1 1 9 1 1 1 1 ...\n",
      " $ Total           : int  318 405 525 309 405 534 314 405 530 195 ...\n",
      " $ HP              : int  45 60 80 39 58 78 44 59 79 45 ...\n",
      " $ Attack          : int  49 62 82 52 64 84 48 63 83 30 ...\n",
      " $ Defense         : int  49 63 83 43 58 78 65 80 100 35 ...\n",
      " $ Sp_Atk          : int  65 80 100 60 80 109 50 65 85 20 ...\n",
      " $ Sp_Def          : int  65 80 100 50 65 85 64 80 105 20 ...\n",
      " $ Speed           : int  45 60 80 65 80 100 43 58 78 45 ...\n",
      " $ Generation      : int  1 1 1 1 1 1 1 1 1 1 ...\n",
      " $ isLegendary     : Factor w/ 2 levels \"False\",\"True\": 1 1 1 1 1 1 1 1 1 1 ...\n",
      " $ Color           : Factor w/ 10 levels \"Black\",\"Blue\",..: 4 4 4 8 8 8 2 2 2 4 ...\n",
      " $ hasGender       : Factor w/ 2 levels \"False\",\"True\": 2 2 2 2 2 2 2 2 2 2 ...\n",
      " $ Pr_Male         : num  0.875 0.875 0.875 0.875 0.875 0.875 0.875 0.875 0.875 0.5 ...\n",
      " $ Egg_Group_1     : Factor w/ 15 levels \"Amorphous\",\"Bug\",..: 11 11 11 11 11 11 11 11 11 2 ...\n",
      " $ Egg_Group_2     : Factor w/ 14 levels \"\",\"Amorphous\",..: 8 8 8 4 4 4 12 12 12 1 ...\n",
      " $ hasMegaEvolution: Factor w/ 2 levels \"False\",\"True\": 1 1 2 1 1 2 1 1 2 1 ...\n",
      " $ Height_m        : num  0.71 0.99 2.01 0.61 1.09 1.7 0.51 0.99 1.6 0.3 ...\n",
      " $ Weight_kg       : num  6.9 13 100 8.5 19 90.5 9 22.5 85.5 2.9 ...\n",
      " $ Catch_Rate      : int  45 45 45 45 45 45 45 45 45 255 ...\n",
      " $ Body_Style      : Factor w/ 14 levels \"bipedal_tailed\",..: 10 10 10 1 1 1 1 1 1 8 ...\n"
     ]
    }
   ],
   "source": [
    "str(data)"
   ]
  },
  {
   "cell_type": "code",
   "execution_count": 6,
   "metadata": {
    "scrolled": true
   },
   "outputs": [
    {
     "data": {
      "text/html": [
       "<table>\n",
       "<caption>A data.frame: 721 × 23</caption>\n",
       "<thead>\n",
       "\t<tr><th scope=col>Number</th><th scope=col>Name</th><th scope=col>Type_1</th><th scope=col>Type_2</th><th scope=col>Total</th><th scope=col>HP</th><th scope=col>Attack</th><th scope=col>Defense</th><th scope=col>Sp_Atk</th><th scope=col>Sp_Def</th><th scope=col>...</th><th scope=col>Color</th><th scope=col>hasGender</th><th scope=col>Pr_Male</th><th scope=col>Egg_Group_1</th><th scope=col>Egg_Group_2</th><th scope=col>hasMegaEvolution</th><th scope=col>Height_m</th><th scope=col>Weight_kg</th><th scope=col>Catch_Rate</th><th scope=col>Body_Style</th></tr>\n",
       "\t<tr><th scope=col>&lt;int&gt;</th><th scope=col>&lt;fct&gt;</th><th scope=col>&lt;fct&gt;</th><th scope=col>&lt;fct&gt;</th><th scope=col>&lt;int&gt;</th><th scope=col>&lt;int&gt;</th><th scope=col>&lt;int&gt;</th><th scope=col>&lt;int&gt;</th><th scope=col>&lt;int&gt;</th><th scope=col>&lt;int&gt;</th><th scope=col>...</th><th scope=col>&lt;fct&gt;</th><th scope=col>&lt;fct&gt;</th><th scope=col>&lt;dbl&gt;</th><th scope=col>&lt;fct&gt;</th><th scope=col>&lt;fct&gt;</th><th scope=col>&lt;fct&gt;</th><th scope=col>&lt;dbl&gt;</th><th scope=col>&lt;dbl&gt;</th><th scope=col>&lt;int&gt;</th><th scope=col>&lt;fct&gt;</th></tr>\n",
       "</thead>\n",
       "<tbody>\n",
       "\t<tr><td> 1</td><td>Bulbasaur </td><td>Grass   </td><td>Poison</td><td>318</td><td>45</td><td> 49</td><td> 49</td><td> 65</td><td> 65</td><td>...</td><td>Green </td><td>True</td><td>0.875</td><td>Monster     </td><td>Grass  </td><td>False</td><td>0.71</td><td>  6.9</td><td> 45</td><td>quadruped      </td></tr>\n",
       "\t<tr><td> 2</td><td>Ivysaur   </td><td>Grass   </td><td>Poison</td><td>405</td><td>60</td><td> 62</td><td> 63</td><td> 80</td><td> 80</td><td>...</td><td>Green </td><td>True</td><td>0.875</td><td>Monster     </td><td>Grass  </td><td>False</td><td>0.99</td><td> 13.0</td><td> 45</td><td>quadruped      </td></tr>\n",
       "\t<tr><td> 3</td><td>Venusaur  </td><td>Grass   </td><td>Poison</td><td>525</td><td>80</td><td> 82</td><td> 83</td><td>100</td><td>100</td><td>...</td><td>Green </td><td>True</td><td>0.875</td><td>Monster     </td><td>Grass  </td><td>True </td><td>2.01</td><td>100.0</td><td> 45</td><td>quadruped      </td></tr>\n",
       "\t<tr><td> 4</td><td>Charmander</td><td>Fire    </td><td>      </td><td>309</td><td>39</td><td> 52</td><td> 43</td><td> 60</td><td> 50</td><td>...</td><td>Red   </td><td>True</td><td>0.875</td><td>Monster     </td><td>Dragon </td><td>False</td><td>0.61</td><td>  8.5</td><td> 45</td><td>bipedal_tailed </td></tr>\n",
       "\t<tr><td> 5</td><td>Charmeleon</td><td>Fire    </td><td>      </td><td>405</td><td>58</td><td> 64</td><td> 58</td><td> 80</td><td> 65</td><td>...</td><td>Red   </td><td>True</td><td>0.875</td><td>Monster     </td><td>Dragon </td><td>False</td><td>1.09</td><td> 19.0</td><td> 45</td><td>bipedal_tailed </td></tr>\n",
       "\t<tr><td> 6</td><td>Charizard </td><td>Fire    </td><td>Flying</td><td>534</td><td>78</td><td> 84</td><td> 78</td><td>109</td><td> 85</td><td>...</td><td>Red   </td><td>True</td><td>0.875</td><td>Monster     </td><td>Dragon </td><td>True </td><td>1.70</td><td> 90.5</td><td> 45</td><td>bipedal_tailed </td></tr>\n",
       "\t<tr><td> 7</td><td>Squirtle  </td><td>Water   </td><td>      </td><td>314</td><td>44</td><td> 48</td><td> 65</td><td> 50</td><td> 64</td><td>...</td><td>Blue  </td><td>True</td><td>0.875</td><td>Monster     </td><td>Water_1</td><td>False</td><td>0.51</td><td>  9.0</td><td> 45</td><td>bipedal_tailed </td></tr>\n",
       "\t<tr><td> 8</td><td>Wartortle </td><td>Water   </td><td>      </td><td>405</td><td>59</td><td> 63</td><td> 80</td><td> 65</td><td> 80</td><td>...</td><td>Blue  </td><td>True</td><td>0.875</td><td>Monster     </td><td>Water_1</td><td>False</td><td>0.99</td><td> 22.5</td><td> 45</td><td>bipedal_tailed </td></tr>\n",
       "\t<tr><td> 9</td><td>Blastoise </td><td>Water   </td><td>      </td><td>530</td><td>79</td><td> 83</td><td>100</td><td> 85</td><td>105</td><td>...</td><td>Blue  </td><td>True</td><td>0.875</td><td>Monster     </td><td>Water_1</td><td>True </td><td>1.60</td><td> 85.5</td><td> 45</td><td>bipedal_tailed </td></tr>\n",
       "\t<tr><td>10</td><td>Caterpie  </td><td>Bug     </td><td>      </td><td>195</td><td>45</td><td> 30</td><td> 35</td><td> 20</td><td> 20</td><td>...</td><td>Green </td><td>True</td><td>0.500</td><td>Bug         </td><td>       </td><td>False</td><td>0.30</td><td>  2.9</td><td>255</td><td>insectoid      </td></tr>\n",
       "\t<tr><td>11</td><td>Metapod   </td><td>Bug     </td><td>      </td><td>205</td><td>50</td><td> 20</td><td> 55</td><td> 25</td><td> 25</td><td>...</td><td>Green </td><td>True</td><td>0.500</td><td>Bug         </td><td>       </td><td>False</td><td>0.71</td><td>  9.9</td><td>120</td><td>serpentine_body</td></tr>\n",
       "\t<tr><td>12</td><td>Butterfree</td><td>Bug     </td><td>Flying</td><td>395</td><td>60</td><td> 45</td><td> 50</td><td> 90</td><td> 80</td><td>...</td><td>White </td><td>True</td><td>0.500</td><td>Bug         </td><td>       </td><td>False</td><td>1.09</td><td> 32.0</td><td> 45</td><td>four_wings     </td></tr>\n",
       "\t<tr><td>13</td><td>Weedle    </td><td>Bug     </td><td>Poison</td><td>195</td><td>40</td><td> 35</td><td> 30</td><td> 20</td><td> 20</td><td>...</td><td>Brown </td><td>True</td><td>0.500</td><td>Bug         </td><td>       </td><td>False</td><td>0.30</td><td>  3.2</td><td>255</td><td>serpentine_body</td></tr>\n",
       "\t<tr><td>14</td><td>Kakuna    </td><td>Bug     </td><td>Poison</td><td>205</td><td>45</td><td> 25</td><td> 50</td><td> 25</td><td> 25</td><td>...</td><td>Yellow</td><td>True</td><td>0.500</td><td>Bug         </td><td>       </td><td>False</td><td>0.61</td><td> 10.0</td><td>120</td><td>serpentine_body</td></tr>\n",
       "\t<tr><td>15</td><td>Beedrill  </td><td>Bug     </td><td>Poison</td><td>395</td><td>65</td><td> 90</td><td> 40</td><td> 45</td><td> 80</td><td>...</td><td>Yellow</td><td>True</td><td>0.500</td><td>Bug         </td><td>       </td><td>True </td><td>0.99</td><td> 29.5</td><td> 45</td><td>four_wings     </td></tr>\n",
       "\t<tr><td>16</td><td>Pidgey    </td><td>Normal  </td><td>Flying</td><td>251</td><td>40</td><td> 45</td><td> 40</td><td> 35</td><td> 35</td><td>...</td><td>Brown </td><td>True</td><td>0.500</td><td>Flying      </td><td>       </td><td>False</td><td>0.30</td><td>  1.8</td><td>255</td><td>two_wings      </td></tr>\n",
       "\t<tr><td>17</td><td>Pidgeotto </td><td>Normal  </td><td>Flying</td><td>349</td><td>63</td><td> 60</td><td> 55</td><td> 50</td><td> 50</td><td>...</td><td>Brown </td><td>True</td><td>0.500</td><td>Flying      </td><td>       </td><td>False</td><td>1.09</td><td> 30.0</td><td>120</td><td>two_wings      </td></tr>\n",
       "\t<tr><td>18</td><td>Pidgeot   </td><td>Normal  </td><td>Flying</td><td>479</td><td>83</td><td> 80</td><td> 75</td><td> 70</td><td> 70</td><td>...</td><td>Brown </td><td>True</td><td>0.500</td><td>Flying      </td><td>       </td><td>True </td><td>1.50</td><td> 39.5</td><td> 45</td><td>two_wings      </td></tr>\n",
       "\t<tr><td>19</td><td>Rattata   </td><td>Normal  </td><td>      </td><td>253</td><td>30</td><td> 56</td><td> 35</td><td> 25</td><td> 35</td><td>...</td><td>Purple</td><td>True</td><td>0.500</td><td>Field       </td><td>       </td><td>False</td><td>0.30</td><td>  3.5</td><td>255</td><td>quadruped      </td></tr>\n",
       "\t<tr><td>20</td><td>Raticate  </td><td>Normal  </td><td>      </td><td>413</td><td>55</td><td> 81</td><td> 60</td><td> 50</td><td> 70</td><td>...</td><td>Brown </td><td>True</td><td>0.500</td><td>Field       </td><td>       </td><td>False</td><td>0.71</td><td> 18.5</td><td>127</td><td>quadruped      </td></tr>\n",
       "\t<tr><td>21</td><td>Spearow   </td><td>Normal  </td><td>Flying</td><td>262</td><td>40</td><td> 60</td><td> 30</td><td> 31</td><td> 31</td><td>...</td><td>Brown </td><td>True</td><td>0.500</td><td>Flying      </td><td>       </td><td>False</td><td>0.30</td><td>  2.0</td><td>255</td><td>two_wings      </td></tr>\n",
       "\t<tr><td>22</td><td>Fearow    </td><td>Normal  </td><td>Flying</td><td>442</td><td>65</td><td> 90</td><td> 65</td><td> 61</td><td> 61</td><td>...</td><td>Brown </td><td>True</td><td>0.500</td><td>Flying      </td><td>       </td><td>False</td><td>1.19</td><td> 38.0</td><td> 90</td><td>two_wings      </td></tr>\n",
       "\t<tr><td>23</td><td>Ekans     </td><td>Poison  </td><td>      </td><td>288</td><td>35</td><td> 60</td><td> 44</td><td> 40</td><td> 54</td><td>...</td><td>Purple</td><td>True</td><td>0.500</td><td>Field       </td><td>Dragon </td><td>False</td><td>2.01</td><td>  6.9</td><td>255</td><td>serpentine_body</td></tr>\n",
       "\t<tr><td>24</td><td>Arbok     </td><td>Poison  </td><td>      </td><td>438</td><td>60</td><td> 85</td><td> 69</td><td> 65</td><td> 79</td><td>...</td><td>Purple</td><td>True</td><td>0.500</td><td>Field       </td><td>Dragon </td><td>False</td><td>3.51</td><td> 65.0</td><td> 90</td><td>serpentine_body</td></tr>\n",
       "\t<tr><td>25</td><td>Pikachu   </td><td>Electric</td><td>      </td><td>320</td><td>35</td><td> 55</td><td> 40</td><td> 50</td><td> 50</td><td>...</td><td>Yellow</td><td>True</td><td>0.500</td><td>Field       </td><td>Fairy  </td><td>False</td><td>0.41</td><td>  6.0</td><td>190</td><td>quadruped      </td></tr>\n",
       "\t<tr><td>26</td><td>Raichu    </td><td>Electric</td><td>      </td><td>485</td><td>60</td><td> 90</td><td> 55</td><td> 90</td><td> 80</td><td>...</td><td>Yellow</td><td>True</td><td>0.500</td><td>Field       </td><td>Fairy  </td><td>False</td><td>0.79</td><td> 30.0</td><td> 75</td><td>bipedal_tailed </td></tr>\n",
       "\t<tr><td>27</td><td>Sandshrew </td><td>Ground  </td><td>      </td><td>300</td><td>50</td><td> 75</td><td> 85</td><td> 20</td><td> 30</td><td>...</td><td>Yellow</td><td>True</td><td>0.500</td><td>Field       </td><td>       </td><td>False</td><td>0.61</td><td> 12.0</td><td>255</td><td>bipedal_tailed </td></tr>\n",
       "\t<tr><td>28</td><td>Sandslash </td><td>Ground  </td><td>      </td><td>450</td><td>75</td><td>100</td><td>110</td><td> 45</td><td> 55</td><td>...</td><td>Yellow</td><td>True</td><td>0.500</td><td>Field       </td><td>       </td><td>False</td><td>0.99</td><td> 29.5</td><td> 90</td><td>bipedal_tailed </td></tr>\n",
       "\t<tr><td>29</td><td>Nidoranâ™€</td><td>Poison  </td><td>      </td><td>275</td><td>55</td><td> 47</td><td> 52</td><td> 40</td><td> 40</td><td>...</td><td>Blue  </td><td>True</td><td>0.000</td><td>Monster     </td><td>Field  </td><td>False</td><td>0.41</td><td>  7.0</td><td>235</td><td>quadruped      </td></tr>\n",
       "\t<tr><td>30</td><td>Nidorina  </td><td>Poison  </td><td>      </td><td>365</td><td>70</td><td> 62</td><td> 67</td><td> 55</td><td> 55</td><td>...</td><td>Blue  </td><td>True</td><td>0.000</td><td>Undiscovered</td><td>       </td><td>False</td><td>0.79</td><td> 20.0</td><td>120</td><td>quadruped      </td></tr>\n",
       "\t<tr><td>...</td><td>...</td><td>...</td><td>...</td><td>...</td><td>...</td><td>...</td><td>...</td><td>...</td><td>...</td><td></td><td>...</td><td>...</td><td>...</td><td>...</td><td>...</td><td>...</td><td>...</td><td>...</td><td>...</td><td>...</td></tr>\n",
       "\t<tr><td>692</td><td>Clauncher </td><td>Water   </td><td>      </td><td>330</td><td> 50</td><td> 53</td><td> 62</td><td> 58</td><td> 63</td><td>...</td><td>Blue  </td><td>True </td><td>0.500</td><td>Water_1     </td><td>Water_3  </td><td>False</td><td>0.51</td><td>  8.3</td><td>225</td><td>insectoid       </td></tr>\n",
       "\t<tr><td>693</td><td>Clawitzer </td><td>Water   </td><td>      </td><td>500</td><td> 71</td><td> 73</td><td> 88</td><td>120</td><td> 89</td><td>...</td><td>Blue  </td><td>True </td><td>0.500</td><td>Water_1     </td><td>Water_3  </td><td>False</td><td>1.30</td><td> 35.3</td><td> 55</td><td>serpentine_body </td></tr>\n",
       "\t<tr><td>694</td><td>Helioptile</td><td>Electric</td><td>Normal</td><td>289</td><td> 44</td><td> 38</td><td> 33</td><td> 61</td><td> 43</td><td>...</td><td>Yellow</td><td>True </td><td>0.500</td><td>Monster     </td><td>Dragon   </td><td>False</td><td>0.51</td><td>  6.0</td><td>190</td><td>bipedal_tailed  </td></tr>\n",
       "\t<tr><td>695</td><td>Heliolisk </td><td>Electric</td><td>Normal</td><td>481</td><td> 62</td><td> 55</td><td> 52</td><td>109</td><td> 94</td><td>...</td><td>Yellow</td><td>True </td><td>0.500</td><td>Monster     </td><td>Dragon   </td><td>False</td><td>0.99</td><td> 21.0</td><td> 75</td><td>bipedal_tailed  </td></tr>\n",
       "\t<tr><td>696</td><td>Tyrunt    </td><td>Rock    </td><td>Dragon</td><td>362</td><td> 58</td><td> 89</td><td> 77</td><td> 45</td><td> 45</td><td>...</td><td>Brown </td><td>True </td><td>0.875</td><td>Monster     </td><td>Dragon   </td><td>False</td><td>0.79</td><td> 26.0</td><td> 45</td><td>bipedal_tailed  </td></tr>\n",
       "\t<tr><td>697</td><td>Tyrantrum </td><td>Rock    </td><td>Dragon</td><td>521</td><td> 82</td><td>121</td><td>119</td><td> 69</td><td> 59</td><td>...</td><td>Red   </td><td>True </td><td>0.875</td><td>Monster     </td><td>Dragon   </td><td>False</td><td>2.49</td><td>270.0</td><td> 45</td><td>bipedal_tailed  </td></tr>\n",
       "\t<tr><td>698</td><td>Amaura    </td><td>Rock    </td><td>Ice   </td><td>362</td><td> 77</td><td> 59</td><td> 50</td><td> 67</td><td> 63</td><td>...</td><td>Blue  </td><td>True </td><td>0.875</td><td>Monster     </td><td>         </td><td>False</td><td>1.30</td><td> 25.2</td><td> 45</td><td>quadruped       </td></tr>\n",
       "\t<tr><td>699</td><td>Aurorus   </td><td>Rock    </td><td>Ice   </td><td>521</td><td>123</td><td> 77</td><td> 72</td><td> 99</td><td> 92</td><td>...</td><td>Blue  </td><td>True </td><td>0.875</td><td>Monster     </td><td>         </td><td>False</td><td>2.69</td><td>225.0</td><td> 45</td><td>quadruped       </td></tr>\n",
       "\t<tr><td>700</td><td>Sylveon   </td><td>Fairy   </td><td>      </td><td>525</td><td> 95</td><td> 65</td><td> 65</td><td>110</td><td>130</td><td>...</td><td>Pink  </td><td>True </td><td>0.875</td><td>Field       </td><td>         </td><td>False</td><td>0.99</td><td> 23.5</td><td> 45</td><td>quadruped       </td></tr>\n",
       "\t<tr><td>701</td><td>Hawlucha  </td><td>Fighting</td><td>Flying</td><td>500</td><td> 78</td><td> 92</td><td> 75</td><td> 74</td><td> 63</td><td>...</td><td>Green </td><td>True </td><td>0.500</td><td>Human-Like  </td><td>         </td><td>False</td><td>0.79</td><td> 21.5</td><td>100</td><td>bipedal_tailless</td></tr>\n",
       "\t<tr><td>702</td><td>Dedenne   </td><td>Electric</td><td>Fairy </td><td>431</td><td> 67</td><td> 58</td><td> 57</td><td> 81</td><td> 67</td><td>...</td><td>Yellow</td><td>True </td><td>0.500</td><td>Field       </td><td>Fairy    </td><td>False</td><td>0.20</td><td>  2.2</td><td>180</td><td>bipedal_tailed  </td></tr>\n",
       "\t<tr><td>703</td><td>Carbink   </td><td>Rock    </td><td>Fairy </td><td>500</td><td> 50</td><td> 50</td><td>150</td><td> 50</td><td>150</td><td>...</td><td>Grey  </td><td>False</td><td>   NA</td><td>Fairy       </td><td>Mineral  </td><td>False</td><td>0.30</td><td>  5.7</td><td> 60</td><td>head_only       </td></tr>\n",
       "\t<tr><td>704</td><td>Goomy     </td><td>Dragon  </td><td>      </td><td>300</td><td> 45</td><td> 50</td><td> 35</td><td> 55</td><td> 75</td><td>...</td><td>Purple</td><td>True </td><td>0.500</td><td>Dragon      </td><td>         </td><td>False</td><td>0.30</td><td>  2.8</td><td> 45</td><td>serpentine_body </td></tr>\n",
       "\t<tr><td>705</td><td>Sliggoo   </td><td>Dragon  </td><td>      </td><td>452</td><td> 68</td><td> 75</td><td> 53</td><td> 83</td><td>113</td><td>...</td><td>Purple</td><td>True </td><td>0.500</td><td>Dragon      </td><td>         </td><td>False</td><td>0.79</td><td> 17.5</td><td> 45</td><td>serpentine_body </td></tr>\n",
       "\t<tr><td>706</td><td>Goodra    </td><td>Dragon  </td><td>      </td><td>600</td><td> 90</td><td>100</td><td> 70</td><td>110</td><td>150</td><td>...</td><td>Purple</td><td>True </td><td>0.500</td><td>Dragon      </td><td>         </td><td>False</td><td>2.01</td><td>150.5</td><td> 45</td><td>bipedal_tailed  </td></tr>\n",
       "\t<tr><td>707</td><td>Klefki    </td><td>Steel   </td><td>Fairy </td><td>470</td><td> 57</td><td> 80</td><td> 91</td><td> 80</td><td> 87</td><td>...</td><td>Grey  </td><td>True </td><td>0.500</td><td>Mineral     </td><td>         </td><td>False</td><td>0.20</td><td>  3.0</td><td> 75</td><td>head_only       </td></tr>\n",
       "\t<tr><td>708</td><td>Phantump  </td><td>Ghost   </td><td>Grass </td><td>309</td><td> 43</td><td> 70</td><td> 48</td><td> 50</td><td> 60</td><td>...</td><td>Brown </td><td>True </td><td>0.500</td><td>Grass       </td><td>Amorphous</td><td>False</td><td>0.41</td><td>  7.0</td><td>120</td><td>head_arms       </td></tr>\n",
       "\t<tr><td>709</td><td>Trevenant </td><td>Ghost   </td><td>Grass </td><td>474</td><td> 85</td><td>110</td><td> 76</td><td> 65</td><td> 82</td><td>...</td><td>Brown </td><td>True </td><td>0.500</td><td>Grass       </td><td>Amorphous</td><td>False</td><td>1.50</td><td> 71.0</td><td> 60</td><td>several_limbs   </td></tr>\n",
       "\t<tr><td>710</td><td>Pumpkaboo </td><td>Ghost   </td><td>Grass </td><td>335</td><td> 49</td><td> 66</td><td> 70</td><td> 44</td><td> 55</td><td>...</td><td>Brown </td><td>True </td><td>0.500</td><td>Amorphous   </td><td>         </td><td>False</td><td>0.41</td><td>  5.0</td><td>120</td><td>head_only       </td></tr>\n",
       "\t<tr><td>711</td><td>Gourgeist </td><td>Ghost   </td><td>Grass </td><td>494</td><td> 65</td><td> 90</td><td>122</td><td> 58</td><td> 75</td><td>...</td><td>Brown </td><td>True </td><td>0.500</td><td>Amorphous   </td><td>         </td><td>False</td><td>1.70</td><td> 39.0</td><td> 60</td><td>head_base       </td></tr>\n",
       "\t<tr><td>712</td><td>Bergmite  </td><td>Ice     </td><td>      </td><td>304</td><td> 55</td><td> 69</td><td> 85</td><td> 32</td><td> 35</td><td>...</td><td>Blue  </td><td>True </td><td>0.500</td><td>Monster     </td><td>         </td><td>False</td><td>0.99</td><td> 99.5</td><td>190</td><td>quadruped       </td></tr>\n",
       "\t<tr><td>713</td><td>Avalugg   </td><td>Ice     </td><td>      </td><td>514</td><td> 95</td><td>117</td><td>184</td><td> 44</td><td> 46</td><td>...</td><td>Blue  </td><td>True </td><td>0.500</td><td>Monster     </td><td>         </td><td>False</td><td>2.01</td><td>505.0</td><td> 55</td><td>quadruped       </td></tr>\n",
       "\t<tr><td>714</td><td>Noibat    </td><td>Flying  </td><td>Dragon</td><td>245</td><td> 40</td><td> 30</td><td> 35</td><td> 45</td><td> 40</td><td>...</td><td>Purple</td><td>True </td><td>0.500</td><td>Flying      </td><td>         </td><td>False</td><td>0.51</td><td>  8.0</td><td>190</td><td>two_wings       </td></tr>\n",
       "\t<tr><td>715</td><td>Noivern   </td><td>Flying  </td><td>Dragon</td><td>535</td><td> 85</td><td> 70</td><td> 80</td><td> 97</td><td> 80</td><td>...</td><td>Purple</td><td>True </td><td>0.500</td><td>Flying      </td><td>         </td><td>False</td><td>1.50</td><td> 85.0</td><td> 45</td><td>two_wings       </td></tr>\n",
       "\t<tr><td>716</td><td>Xerneas   </td><td>Fairy   </td><td>      </td><td>680</td><td>126</td><td>131</td><td> 95</td><td>131</td><td> 98</td><td>...</td><td>Blue  </td><td>False</td><td>   NA</td><td>Undiscovered</td><td>         </td><td>False</td><td>3.00</td><td>215.0</td><td> 45</td><td>quadruped       </td></tr>\n",
       "\t<tr><td>717</td><td>Yveltal   </td><td>Dark    </td><td>Flying</td><td>680</td><td>126</td><td>131</td><td> 95</td><td>131</td><td> 98</td><td>...</td><td>Red   </td><td>False</td><td>   NA</td><td>Undiscovered</td><td>         </td><td>False</td><td>5.79</td><td>203.0</td><td> 45</td><td>two_wings       </td></tr>\n",
       "\t<tr><td>718</td><td>Zygarde   </td><td>Dragon  </td><td>Ground</td><td>600</td><td>108</td><td>100</td><td>121</td><td> 81</td><td> 95</td><td>...</td><td>Green </td><td>False</td><td>   NA</td><td>Undiscovered</td><td>         </td><td>False</td><td>5.00</td><td>305.0</td><td>  3</td><td>serpentine_body </td></tr>\n",
       "\t<tr><td>719</td><td>Diancie   </td><td>Rock    </td><td>Fairy </td><td>600</td><td> 50</td><td>100</td><td>150</td><td>100</td><td>150</td><td>...</td><td>Pink  </td><td>False</td><td>   NA</td><td>Undiscovered</td><td>         </td><td>True </td><td>0.71</td><td>  8.8</td><td>  3</td><td>head_arms       </td></tr>\n",
       "\t<tr><td>720</td><td>Hoopa     </td><td>Psychic </td><td>Ghost </td><td>600</td><td> 80</td><td>110</td><td> 60</td><td>150</td><td>130</td><td>...</td><td>Purple</td><td>False</td><td>   NA</td><td>Undiscovered</td><td>         </td><td>False</td><td>0.51</td><td>  9.0</td><td>  3</td><td>head_only       </td></tr>\n",
       "\t<tr><td>721</td><td>Volcanion </td><td>Fire    </td><td>Water </td><td>600</td><td> 80</td><td>110</td><td>120</td><td>130</td><td> 90</td><td>...</td><td>Brown </td><td>False</td><td>   NA</td><td>Undiscovered</td><td>         </td><td>False</td><td>1.70</td><td>195.0</td><td>  3</td><td>quadruped       </td></tr>\n",
       "</tbody>\n",
       "</table>\n"
      ],
      "text/latex": [
       "A data.frame: 721 × 23\n",
       "\\begin{tabular}{r|lllllllllllllllllllllll}\n",
       " Number & Name & Type\\_1 & Type\\_2 & Total & HP & Attack & Defense & Sp\\_Atk & Sp\\_Def & Speed & Generation & isLegendary & Color & hasGender & Pr\\_Male & Egg\\_Group\\_1 & Egg\\_Group\\_2 & hasMegaEvolution & Height\\_m & Weight\\_kg & Catch\\_Rate & Body\\_Style\\\\\n",
       " <int> & <fct> & <fct> & <fct> & <int> & <int> & <int> & <int> & <int> & <int> & <int> & <int> & <fct> & <fct> & <fct> & <dbl> & <fct> & <fct> & <fct> & <dbl> & <dbl> & <int> & <fct>\\\\\n",
       "\\hline\n",
       "\t  1 & Bulbasaur  & Grass    & Poison & 318 & 45 &  49 &  49 &  65 &  65 &  45 & 1 & False & Green  & True & 0.875 & Monster      & Grass   & False & 0.71 &   6.9 &  45 & quadruped      \\\\\n",
       "\t  2 & Ivysaur    & Grass    & Poison & 405 & 60 &  62 &  63 &  80 &  80 &  60 & 1 & False & Green  & True & 0.875 & Monster      & Grass   & False & 0.99 &  13.0 &  45 & quadruped      \\\\\n",
       "\t  3 & Venusaur   & Grass    & Poison & 525 & 80 &  82 &  83 & 100 & 100 &  80 & 1 & False & Green  & True & 0.875 & Monster      & Grass   & True  & 2.01 & 100.0 &  45 & quadruped      \\\\\n",
       "\t  4 & Charmander & Fire     &        & 309 & 39 &  52 &  43 &  60 &  50 &  65 & 1 & False & Red    & True & 0.875 & Monster      & Dragon  & False & 0.61 &   8.5 &  45 & bipedal\\_tailed \\\\\n",
       "\t  5 & Charmeleon & Fire     &        & 405 & 58 &  64 &  58 &  80 &  65 &  80 & 1 & False & Red    & True & 0.875 & Monster      & Dragon  & False & 1.09 &  19.0 &  45 & bipedal\\_tailed \\\\\n",
       "\t  6 & Charizard  & Fire     & Flying & 534 & 78 &  84 &  78 & 109 &  85 & 100 & 1 & False & Red    & True & 0.875 & Monster      & Dragon  & True  & 1.70 &  90.5 &  45 & bipedal\\_tailed \\\\\n",
       "\t  7 & Squirtle   & Water    &        & 314 & 44 &  48 &  65 &  50 &  64 &  43 & 1 & False & Blue   & True & 0.875 & Monster      & Water\\_1 & False & 0.51 &   9.0 &  45 & bipedal\\_tailed \\\\\n",
       "\t  8 & Wartortle  & Water    &        & 405 & 59 &  63 &  80 &  65 &  80 &  58 & 1 & False & Blue   & True & 0.875 & Monster      & Water\\_1 & False & 0.99 &  22.5 &  45 & bipedal\\_tailed \\\\\n",
       "\t  9 & Blastoise  & Water    &        & 530 & 79 &  83 & 100 &  85 & 105 &  78 & 1 & False & Blue   & True & 0.875 & Monster      & Water\\_1 & True  & 1.60 &  85.5 &  45 & bipedal\\_tailed \\\\\n",
       "\t 10 & Caterpie   & Bug      &        & 195 & 45 &  30 &  35 &  20 &  20 &  45 & 1 & False & Green  & True & 0.500 & Bug          &         & False & 0.30 &   2.9 & 255 & insectoid      \\\\\n",
       "\t 11 & Metapod    & Bug      &        & 205 & 50 &  20 &  55 &  25 &  25 &  30 & 1 & False & Green  & True & 0.500 & Bug          &         & False & 0.71 &   9.9 & 120 & serpentine\\_body\\\\\n",
       "\t 12 & Butterfree & Bug      & Flying & 395 & 60 &  45 &  50 &  90 &  80 &  70 & 1 & False & White  & True & 0.500 & Bug          &         & False & 1.09 &  32.0 &  45 & four\\_wings     \\\\\n",
       "\t 13 & Weedle     & Bug      & Poison & 195 & 40 &  35 &  30 &  20 &  20 &  50 & 1 & False & Brown  & True & 0.500 & Bug          &         & False & 0.30 &   3.2 & 255 & serpentine\\_body\\\\\n",
       "\t 14 & Kakuna     & Bug      & Poison & 205 & 45 &  25 &  50 &  25 &  25 &  35 & 1 & False & Yellow & True & 0.500 & Bug          &         & False & 0.61 &  10.0 & 120 & serpentine\\_body\\\\\n",
       "\t 15 & Beedrill   & Bug      & Poison & 395 & 65 &  90 &  40 &  45 &  80 &  75 & 1 & False & Yellow & True & 0.500 & Bug          &         & True  & 0.99 &  29.5 &  45 & four\\_wings     \\\\\n",
       "\t 16 & Pidgey     & Normal   & Flying & 251 & 40 &  45 &  40 &  35 &  35 &  56 & 1 & False & Brown  & True & 0.500 & Flying       &         & False & 0.30 &   1.8 & 255 & two\\_wings      \\\\\n",
       "\t 17 & Pidgeotto  & Normal   & Flying & 349 & 63 &  60 &  55 &  50 &  50 &  71 & 1 & False & Brown  & True & 0.500 & Flying       &         & False & 1.09 &  30.0 & 120 & two\\_wings      \\\\\n",
       "\t 18 & Pidgeot    & Normal   & Flying & 479 & 83 &  80 &  75 &  70 &  70 & 101 & 1 & False & Brown  & True & 0.500 & Flying       &         & True  & 1.50 &  39.5 &  45 & two\\_wings      \\\\\n",
       "\t 19 & Rattata    & Normal   &        & 253 & 30 &  56 &  35 &  25 &  35 &  72 & 1 & False & Purple & True & 0.500 & Field        &         & False & 0.30 &   3.5 & 255 & quadruped      \\\\\n",
       "\t 20 & Raticate   & Normal   &        & 413 & 55 &  81 &  60 &  50 &  70 &  97 & 1 & False & Brown  & True & 0.500 & Field        &         & False & 0.71 &  18.5 & 127 & quadruped      \\\\\n",
       "\t 21 & Spearow    & Normal   & Flying & 262 & 40 &  60 &  30 &  31 &  31 &  70 & 1 & False & Brown  & True & 0.500 & Flying       &         & False & 0.30 &   2.0 & 255 & two\\_wings      \\\\\n",
       "\t 22 & Fearow     & Normal   & Flying & 442 & 65 &  90 &  65 &  61 &  61 & 100 & 1 & False & Brown  & True & 0.500 & Flying       &         & False & 1.19 &  38.0 &  90 & two\\_wings      \\\\\n",
       "\t 23 & Ekans      & Poison   &        & 288 & 35 &  60 &  44 &  40 &  54 &  55 & 1 & False & Purple & True & 0.500 & Field        & Dragon  & False & 2.01 &   6.9 & 255 & serpentine\\_body\\\\\n",
       "\t 24 & Arbok      & Poison   &        & 438 & 60 &  85 &  69 &  65 &  79 &  80 & 1 & False & Purple & True & 0.500 & Field        & Dragon  & False & 3.51 &  65.0 &  90 & serpentine\\_body\\\\\n",
       "\t 25 & Pikachu    & Electric &        & 320 & 35 &  55 &  40 &  50 &  50 &  90 & 1 & False & Yellow & True & 0.500 & Field        & Fairy   & False & 0.41 &   6.0 & 190 & quadruped      \\\\\n",
       "\t 26 & Raichu     & Electric &        & 485 & 60 &  90 &  55 &  90 &  80 & 110 & 1 & False & Yellow & True & 0.500 & Field        & Fairy   & False & 0.79 &  30.0 &  75 & bipedal\\_tailed \\\\\n",
       "\t 27 & Sandshrew  & Ground   &        & 300 & 50 &  75 &  85 &  20 &  30 &  40 & 1 & False & Yellow & True & 0.500 & Field        &         & False & 0.61 &  12.0 & 255 & bipedal\\_tailed \\\\\n",
       "\t 28 & Sandslash  & Ground   &        & 450 & 75 & 100 & 110 &  45 &  55 &  65 & 1 & False & Yellow & True & 0.500 & Field        &         & False & 0.99 &  29.5 &  90 & bipedal\\_tailed \\\\\n",
       "\t 29 & Nidoranâ™€ & Poison   &        & 275 & 55 &  47 &  52 &  40 &  40 &  41 & 1 & False & Blue   & True & 0.000 & Monster      & Field   & False & 0.41 &   7.0 & 235 & quadruped      \\\\\n",
       "\t 30 & Nidorina   & Poison   &        & 365 & 70 &  62 &  67 &  55 &  55 &  56 & 1 & False & Blue   & True & 0.000 & Undiscovered &         & False & 0.79 &  20.0 & 120 & quadruped      \\\\\n",
       "\t ... & ... & ... & ... & ... & ... & ... & ... & ... & ... & ... & ... & ... & ... & ... & ... & ... & ... & ... & ... & ... & ... & ...\\\\\n",
       "\t 692 & Clauncher  & Water    &        & 330 &  50 &  53 &  62 &  58 &  63 &  44 & 6 & False & Blue   & True  & 0.500 & Water\\_1      & Water\\_3   & False & 0.51 &   8.3 & 225 & insectoid       \\\\\n",
       "\t 693 & Clawitzer  & Water    &        & 500 &  71 &  73 &  88 & 120 &  89 &  59 & 6 & False & Blue   & True  & 0.500 & Water\\_1      & Water\\_3   & False & 1.30 &  35.3 &  55 & serpentine\\_body \\\\\n",
       "\t 694 & Helioptile & Electric & Normal & 289 &  44 &  38 &  33 &  61 &  43 &  70 & 6 & False & Yellow & True  & 0.500 & Monster      & Dragon    & False & 0.51 &   6.0 & 190 & bipedal\\_tailed  \\\\\n",
       "\t 695 & Heliolisk  & Electric & Normal & 481 &  62 &  55 &  52 & 109 &  94 & 109 & 6 & False & Yellow & True  & 0.500 & Monster      & Dragon    & False & 0.99 &  21.0 &  75 & bipedal\\_tailed  \\\\\n",
       "\t 696 & Tyrunt     & Rock     & Dragon & 362 &  58 &  89 &  77 &  45 &  45 &  48 & 6 & False & Brown  & True  & 0.875 & Monster      & Dragon    & False & 0.79 &  26.0 &  45 & bipedal\\_tailed  \\\\\n",
       "\t 697 & Tyrantrum  & Rock     & Dragon & 521 &  82 & 121 & 119 &  69 &  59 &  71 & 6 & False & Red    & True  & 0.875 & Monster      & Dragon    & False & 2.49 & 270.0 &  45 & bipedal\\_tailed  \\\\\n",
       "\t 698 & Amaura     & Rock     & Ice    & 362 &  77 &  59 &  50 &  67 &  63 &  46 & 6 & False & Blue   & True  & 0.875 & Monster      &           & False & 1.30 &  25.2 &  45 & quadruped       \\\\\n",
       "\t 699 & Aurorus    & Rock     & Ice    & 521 & 123 &  77 &  72 &  99 &  92 &  58 & 6 & False & Blue   & True  & 0.875 & Monster      &           & False & 2.69 & 225.0 &  45 & quadruped       \\\\\n",
       "\t 700 & Sylveon    & Fairy    &        & 525 &  95 &  65 &  65 & 110 & 130 &  60 & 6 & False & Pink   & True  & 0.875 & Field        &           & False & 0.99 &  23.5 &  45 & quadruped       \\\\\n",
       "\t 701 & Hawlucha   & Fighting & Flying & 500 &  78 &  92 &  75 &  74 &  63 & 118 & 6 & False & Green  & True  & 0.500 & Human-Like   &           & False & 0.79 &  21.5 & 100 & bipedal\\_tailless\\\\\n",
       "\t 702 & Dedenne    & Electric & Fairy  & 431 &  67 &  58 &  57 &  81 &  67 & 101 & 6 & False & Yellow & True  & 0.500 & Field        & Fairy     & False & 0.20 &   2.2 & 180 & bipedal\\_tailed  \\\\\n",
       "\t 703 & Carbink    & Rock     & Fairy  & 500 &  50 &  50 & 150 &  50 & 150 &  50 & 6 & False & Grey   & False &    NA & Fairy        & Mineral   & False & 0.30 &   5.7 &  60 & head\\_only       \\\\\n",
       "\t 704 & Goomy      & Dragon   &        & 300 &  45 &  50 &  35 &  55 &  75 &  40 & 6 & False & Purple & True  & 0.500 & Dragon       &           & False & 0.30 &   2.8 &  45 & serpentine\\_body \\\\\n",
       "\t 705 & Sliggoo    & Dragon   &        & 452 &  68 &  75 &  53 &  83 & 113 &  60 & 6 & False & Purple & True  & 0.500 & Dragon       &           & False & 0.79 &  17.5 &  45 & serpentine\\_body \\\\\n",
       "\t 706 & Goodra     & Dragon   &        & 600 &  90 & 100 &  70 & 110 & 150 &  80 & 6 & False & Purple & True  & 0.500 & Dragon       &           & False & 2.01 & 150.5 &  45 & bipedal\\_tailed  \\\\\n",
       "\t 707 & Klefki     & Steel    & Fairy  & 470 &  57 &  80 &  91 &  80 &  87 &  75 & 6 & False & Grey   & True  & 0.500 & Mineral      &           & False & 0.20 &   3.0 &  75 & head\\_only       \\\\\n",
       "\t 708 & Phantump   & Ghost    & Grass  & 309 &  43 &  70 &  48 &  50 &  60 &  38 & 6 & False & Brown  & True  & 0.500 & Grass        & Amorphous & False & 0.41 &   7.0 & 120 & head\\_arms       \\\\\n",
       "\t 709 & Trevenant  & Ghost    & Grass  & 474 &  85 & 110 &  76 &  65 &  82 &  56 & 6 & False & Brown  & True  & 0.500 & Grass        & Amorphous & False & 1.50 &  71.0 &  60 & several\\_limbs   \\\\\n",
       "\t 710 & Pumpkaboo  & Ghost    & Grass  & 335 &  49 &  66 &  70 &  44 &  55 &  51 & 6 & False & Brown  & True  & 0.500 & Amorphous    &           & False & 0.41 &   5.0 & 120 & head\\_only       \\\\\n",
       "\t 711 & Gourgeist  & Ghost    & Grass  & 494 &  65 &  90 & 122 &  58 &  75 &  84 & 6 & False & Brown  & True  & 0.500 & Amorphous    &           & False & 1.70 &  39.0 &  60 & head\\_base       \\\\\n",
       "\t 712 & Bergmite   & Ice      &        & 304 &  55 &  69 &  85 &  32 &  35 &  28 & 6 & False & Blue   & True  & 0.500 & Monster      &           & False & 0.99 &  99.5 & 190 & quadruped       \\\\\n",
       "\t 713 & Avalugg    & Ice      &        & 514 &  95 & 117 & 184 &  44 &  46 &  28 & 6 & False & Blue   & True  & 0.500 & Monster      &           & False & 2.01 & 505.0 &  55 & quadruped       \\\\\n",
       "\t 714 & Noibat     & Flying   & Dragon & 245 &  40 &  30 &  35 &  45 &  40 &  55 & 6 & False & Purple & True  & 0.500 & Flying       &           & False & 0.51 &   8.0 & 190 & two\\_wings       \\\\\n",
       "\t 715 & Noivern    & Flying   & Dragon & 535 &  85 &  70 &  80 &  97 &  80 & 123 & 6 & False & Purple & True  & 0.500 & Flying       &           & False & 1.50 &  85.0 &  45 & two\\_wings       \\\\\n",
       "\t 716 & Xerneas    & Fairy    &        & 680 & 126 & 131 &  95 & 131 &  98 &  99 & 6 & True  & Blue   & False &    NA & Undiscovered &           & False & 3.00 & 215.0 &  45 & quadruped       \\\\\n",
       "\t 717 & Yveltal    & Dark     & Flying & 680 & 126 & 131 &  95 & 131 &  98 &  99 & 6 & True  & Red    & False &    NA & Undiscovered &           & False & 5.79 & 203.0 &  45 & two\\_wings       \\\\\n",
       "\t 718 & Zygarde    & Dragon   & Ground & 600 & 108 & 100 & 121 &  81 &  95 &  95 & 6 & True  & Green  & False &    NA & Undiscovered &           & False & 5.00 & 305.0 &   3 & serpentine\\_body \\\\\n",
       "\t 719 & Diancie    & Rock     & Fairy  & 600 &  50 & 100 & 150 & 100 & 150 &  50 & 6 & True  & Pink   & False &    NA & Undiscovered &           & True  & 0.71 &   8.8 &   3 & head\\_arms       \\\\\n",
       "\t 720 & Hoopa      & Psychic  & Ghost  & 600 &  80 & 110 &  60 & 150 & 130 &  70 & 6 & True  & Purple & False &    NA & Undiscovered &           & False & 0.51 &   9.0 &   3 & head\\_only       \\\\\n",
       "\t 721 & Volcanion  & Fire     & Water  & 600 &  80 & 110 & 120 & 130 &  90 &  70 & 6 & True  & Brown  & False &    NA & Undiscovered &           & False & 1.70 & 195.0 &   3 & quadruped       \\\\\n",
       "\\end{tabular}\n"
      ],
      "text/markdown": [
       "\n",
       "A data.frame: 721 × 23\n",
       "\n",
       "| Number &lt;int&gt; | Name &lt;fct&gt; | Type_1 &lt;fct&gt; | Type_2 &lt;fct&gt; | Total &lt;int&gt; | HP &lt;int&gt; | Attack &lt;int&gt; | Defense &lt;int&gt; | Sp_Atk &lt;int&gt; | Sp_Def &lt;int&gt; | ... ... | Color &lt;fct&gt; | hasGender &lt;fct&gt; | Pr_Male &lt;dbl&gt; | Egg_Group_1 &lt;fct&gt; | Egg_Group_2 &lt;fct&gt; | hasMegaEvolution &lt;fct&gt; | Height_m &lt;dbl&gt; | Weight_kg &lt;dbl&gt; | Catch_Rate &lt;int&gt; | Body_Style &lt;fct&gt; |\n",
       "|---|---|---|---|---|---|---|---|---|---|---|---|---|---|---|---|---|---|---|---|---|\n",
       "|  1 | Bulbasaur  | Grass    | Poison | 318 | 45 |  49 |  49 |  65 |  65 | ... | Green  | True | 0.875 | Monster      | Grass   | False | 0.71 |   6.9 |  45 | quadruped       |\n",
       "|  2 | Ivysaur    | Grass    | Poison | 405 | 60 |  62 |  63 |  80 |  80 | ... | Green  | True | 0.875 | Monster      | Grass   | False | 0.99 |  13.0 |  45 | quadruped       |\n",
       "|  3 | Venusaur   | Grass    | Poison | 525 | 80 |  82 |  83 | 100 | 100 | ... | Green  | True | 0.875 | Monster      | Grass   | True  | 2.01 | 100.0 |  45 | quadruped       |\n",
       "|  4 | Charmander | Fire     | <!----> | 309 | 39 |  52 |  43 |  60 |  50 | ... | Red    | True | 0.875 | Monster      | Dragon  | False | 0.61 |   8.5 |  45 | bipedal_tailed  |\n",
       "|  5 | Charmeleon | Fire     | <!----> | 405 | 58 |  64 |  58 |  80 |  65 | ... | Red    | True | 0.875 | Monster      | Dragon  | False | 1.09 |  19.0 |  45 | bipedal_tailed  |\n",
       "|  6 | Charizard  | Fire     | Flying | 534 | 78 |  84 |  78 | 109 |  85 | ... | Red    | True | 0.875 | Monster      | Dragon  | True  | 1.70 |  90.5 |  45 | bipedal_tailed  |\n",
       "|  7 | Squirtle   | Water    | <!----> | 314 | 44 |  48 |  65 |  50 |  64 | ... | Blue   | True | 0.875 | Monster      | Water_1 | False | 0.51 |   9.0 |  45 | bipedal_tailed  |\n",
       "|  8 | Wartortle  | Water    | <!----> | 405 | 59 |  63 |  80 |  65 |  80 | ... | Blue   | True | 0.875 | Monster      | Water_1 | False | 0.99 |  22.5 |  45 | bipedal_tailed  |\n",
       "|  9 | Blastoise  | Water    | <!----> | 530 | 79 |  83 | 100 |  85 | 105 | ... | Blue   | True | 0.875 | Monster      | Water_1 | True  | 1.60 |  85.5 |  45 | bipedal_tailed  |\n",
       "| 10 | Caterpie   | Bug      | <!----> | 195 | 45 |  30 |  35 |  20 |  20 | ... | Green  | True | 0.500 | Bug          | <!----> | False | 0.30 |   2.9 | 255 | insectoid       |\n",
       "| 11 | Metapod    | Bug      | <!----> | 205 | 50 |  20 |  55 |  25 |  25 | ... | Green  | True | 0.500 | Bug          | <!----> | False | 0.71 |   9.9 | 120 | serpentine_body |\n",
       "| 12 | Butterfree | Bug      | Flying | 395 | 60 |  45 |  50 |  90 |  80 | ... | White  | True | 0.500 | Bug          | <!----> | False | 1.09 |  32.0 |  45 | four_wings      |\n",
       "| 13 | Weedle     | Bug      | Poison | 195 | 40 |  35 |  30 |  20 |  20 | ... | Brown  | True | 0.500 | Bug          | <!----> | False | 0.30 |   3.2 | 255 | serpentine_body |\n",
       "| 14 | Kakuna     | Bug      | Poison | 205 | 45 |  25 |  50 |  25 |  25 | ... | Yellow | True | 0.500 | Bug          | <!----> | False | 0.61 |  10.0 | 120 | serpentine_body |\n",
       "| 15 | Beedrill   | Bug      | Poison | 395 | 65 |  90 |  40 |  45 |  80 | ... | Yellow | True | 0.500 | Bug          | <!----> | True  | 0.99 |  29.5 |  45 | four_wings      |\n",
       "| 16 | Pidgey     | Normal   | Flying | 251 | 40 |  45 |  40 |  35 |  35 | ... | Brown  | True | 0.500 | Flying       | <!----> | False | 0.30 |   1.8 | 255 | two_wings       |\n",
       "| 17 | Pidgeotto  | Normal   | Flying | 349 | 63 |  60 |  55 |  50 |  50 | ... | Brown  | True | 0.500 | Flying       | <!----> | False | 1.09 |  30.0 | 120 | two_wings       |\n",
       "| 18 | Pidgeot    | Normal   | Flying | 479 | 83 |  80 |  75 |  70 |  70 | ... | Brown  | True | 0.500 | Flying       | <!----> | True  | 1.50 |  39.5 |  45 | two_wings       |\n",
       "| 19 | Rattata    | Normal   | <!----> | 253 | 30 |  56 |  35 |  25 |  35 | ... | Purple | True | 0.500 | Field        | <!----> | False | 0.30 |   3.5 | 255 | quadruped       |\n",
       "| 20 | Raticate   | Normal   | <!----> | 413 | 55 |  81 |  60 |  50 |  70 | ... | Brown  | True | 0.500 | Field        | <!----> | False | 0.71 |  18.5 | 127 | quadruped       |\n",
       "| 21 | Spearow    | Normal   | Flying | 262 | 40 |  60 |  30 |  31 |  31 | ... | Brown  | True | 0.500 | Flying       | <!----> | False | 0.30 |   2.0 | 255 | two_wings       |\n",
       "| 22 | Fearow     | Normal   | Flying | 442 | 65 |  90 |  65 |  61 |  61 | ... | Brown  | True | 0.500 | Flying       | <!----> | False | 1.19 |  38.0 |  90 | two_wings       |\n",
       "| 23 | Ekans      | Poison   | <!----> | 288 | 35 |  60 |  44 |  40 |  54 | ... | Purple | True | 0.500 | Field        | Dragon  | False | 2.01 |   6.9 | 255 | serpentine_body |\n",
       "| 24 | Arbok      | Poison   | <!----> | 438 | 60 |  85 |  69 |  65 |  79 | ... | Purple | True | 0.500 | Field        | Dragon  | False | 3.51 |  65.0 |  90 | serpentine_body |\n",
       "| 25 | Pikachu    | Electric | <!----> | 320 | 35 |  55 |  40 |  50 |  50 | ... | Yellow | True | 0.500 | Field        | Fairy   | False | 0.41 |   6.0 | 190 | quadruped       |\n",
       "| 26 | Raichu     | Electric | <!----> | 485 | 60 |  90 |  55 |  90 |  80 | ... | Yellow | True | 0.500 | Field        | Fairy   | False | 0.79 |  30.0 |  75 | bipedal_tailed  |\n",
       "| 27 | Sandshrew  | Ground   | <!----> | 300 | 50 |  75 |  85 |  20 |  30 | ... | Yellow | True | 0.500 | Field        | <!----> | False | 0.61 |  12.0 | 255 | bipedal_tailed  |\n",
       "| 28 | Sandslash  | Ground   | <!----> | 450 | 75 | 100 | 110 |  45 |  55 | ... | Yellow | True | 0.500 | Field        | <!----> | False | 0.99 |  29.5 |  90 | bipedal_tailed  |\n",
       "| 29 | Nidoranâ™€ | Poison   | <!----> | 275 | 55 |  47 |  52 |  40 |  40 | ... | Blue   | True | 0.000 | Monster      | Field   | False | 0.41 |   7.0 | 235 | quadruped       |\n",
       "| 30 | Nidorina   | Poison   | <!----> | 365 | 70 |  62 |  67 |  55 |  55 | ... | Blue   | True | 0.000 | Undiscovered | <!----> | False | 0.79 |  20.0 | 120 | quadruped       |\n",
       "| ... | ... | ... | ... | ... | ... | ... | ... | ... | ... | <!----> | ... | ... | ... | ... | ... | ... | ... | ... | ... | ... |\n",
       "| 692 | Clauncher  | Water    | <!----> | 330 |  50 |  53 |  62 |  58 |  63 | ... | Blue   | True  | 0.500 | Water_1      | Water_3   | False | 0.51 |   8.3 | 225 | insectoid        |\n",
       "| 693 | Clawitzer  | Water    | <!----> | 500 |  71 |  73 |  88 | 120 |  89 | ... | Blue   | True  | 0.500 | Water_1      | Water_3   | False | 1.30 |  35.3 |  55 | serpentine_body  |\n",
       "| 694 | Helioptile | Electric | Normal | 289 |  44 |  38 |  33 |  61 |  43 | ... | Yellow | True  | 0.500 | Monster      | Dragon    | False | 0.51 |   6.0 | 190 | bipedal_tailed   |\n",
       "| 695 | Heliolisk  | Electric | Normal | 481 |  62 |  55 |  52 | 109 |  94 | ... | Yellow | True  | 0.500 | Monster      | Dragon    | False | 0.99 |  21.0 |  75 | bipedal_tailed   |\n",
       "| 696 | Tyrunt     | Rock     | Dragon | 362 |  58 |  89 |  77 |  45 |  45 | ... | Brown  | True  | 0.875 | Monster      | Dragon    | False | 0.79 |  26.0 |  45 | bipedal_tailed   |\n",
       "| 697 | Tyrantrum  | Rock     | Dragon | 521 |  82 | 121 | 119 |  69 |  59 | ... | Red    | True  | 0.875 | Monster      | Dragon    | False | 2.49 | 270.0 |  45 | bipedal_tailed   |\n",
       "| 698 | Amaura     | Rock     | Ice    | 362 |  77 |  59 |  50 |  67 |  63 | ... | Blue   | True  | 0.875 | Monster      | <!----> | False | 1.30 |  25.2 |  45 | quadruped        |\n",
       "| 699 | Aurorus    | Rock     | Ice    | 521 | 123 |  77 |  72 |  99 |  92 | ... | Blue   | True  | 0.875 | Monster      | <!----> | False | 2.69 | 225.0 |  45 | quadruped        |\n",
       "| 700 | Sylveon    | Fairy    | <!----> | 525 |  95 |  65 |  65 | 110 | 130 | ... | Pink   | True  | 0.875 | Field        | <!----> | False | 0.99 |  23.5 |  45 | quadruped        |\n",
       "| 701 | Hawlucha   | Fighting | Flying | 500 |  78 |  92 |  75 |  74 |  63 | ... | Green  | True  | 0.500 | Human-Like   | <!----> | False | 0.79 |  21.5 | 100 | bipedal_tailless |\n",
       "| 702 | Dedenne    | Electric | Fairy  | 431 |  67 |  58 |  57 |  81 |  67 | ... | Yellow | True  | 0.500 | Field        | Fairy     | False | 0.20 |   2.2 | 180 | bipedal_tailed   |\n",
       "| 703 | Carbink    | Rock     | Fairy  | 500 |  50 |  50 | 150 |  50 | 150 | ... | Grey   | False |    NA | Fairy        | Mineral   | False | 0.30 |   5.7 |  60 | head_only        |\n",
       "| 704 | Goomy      | Dragon   | <!----> | 300 |  45 |  50 |  35 |  55 |  75 | ... | Purple | True  | 0.500 | Dragon       | <!----> | False | 0.30 |   2.8 |  45 | serpentine_body  |\n",
       "| 705 | Sliggoo    | Dragon   | <!----> | 452 |  68 |  75 |  53 |  83 | 113 | ... | Purple | True  | 0.500 | Dragon       | <!----> | False | 0.79 |  17.5 |  45 | serpentine_body  |\n",
       "| 706 | Goodra     | Dragon   | <!----> | 600 |  90 | 100 |  70 | 110 | 150 | ... | Purple | True  | 0.500 | Dragon       | <!----> | False | 2.01 | 150.5 |  45 | bipedal_tailed   |\n",
       "| 707 | Klefki     | Steel    | Fairy  | 470 |  57 |  80 |  91 |  80 |  87 | ... | Grey   | True  | 0.500 | Mineral      | <!----> | False | 0.20 |   3.0 |  75 | head_only        |\n",
       "| 708 | Phantump   | Ghost    | Grass  | 309 |  43 |  70 |  48 |  50 |  60 | ... | Brown  | True  | 0.500 | Grass        | Amorphous | False | 0.41 |   7.0 | 120 | head_arms        |\n",
       "| 709 | Trevenant  | Ghost    | Grass  | 474 |  85 | 110 |  76 |  65 |  82 | ... | Brown  | True  | 0.500 | Grass        | Amorphous | False | 1.50 |  71.0 |  60 | several_limbs    |\n",
       "| 710 | Pumpkaboo  | Ghost    | Grass  | 335 |  49 |  66 |  70 |  44 |  55 | ... | Brown  | True  | 0.500 | Amorphous    | <!----> | False | 0.41 |   5.0 | 120 | head_only        |\n",
       "| 711 | Gourgeist  | Ghost    | Grass  | 494 |  65 |  90 | 122 |  58 |  75 | ... | Brown  | True  | 0.500 | Amorphous    | <!----> | False | 1.70 |  39.0 |  60 | head_base        |\n",
       "| 712 | Bergmite   | Ice      | <!----> | 304 |  55 |  69 |  85 |  32 |  35 | ... | Blue   | True  | 0.500 | Monster      | <!----> | False | 0.99 |  99.5 | 190 | quadruped        |\n",
       "| 713 | Avalugg    | Ice      | <!----> | 514 |  95 | 117 | 184 |  44 |  46 | ... | Blue   | True  | 0.500 | Monster      | <!----> | False | 2.01 | 505.0 |  55 | quadruped        |\n",
       "| 714 | Noibat     | Flying   | Dragon | 245 |  40 |  30 |  35 |  45 |  40 | ... | Purple | True  | 0.500 | Flying       | <!----> | False | 0.51 |   8.0 | 190 | two_wings        |\n",
       "| 715 | Noivern    | Flying   | Dragon | 535 |  85 |  70 |  80 |  97 |  80 | ... | Purple | True  | 0.500 | Flying       | <!----> | False | 1.50 |  85.0 |  45 | two_wings        |\n",
       "| 716 | Xerneas    | Fairy    | <!----> | 680 | 126 | 131 |  95 | 131 |  98 | ... | Blue   | False |    NA | Undiscovered | <!----> | False | 3.00 | 215.0 |  45 | quadruped        |\n",
       "| 717 | Yveltal    | Dark     | Flying | 680 | 126 | 131 |  95 | 131 |  98 | ... | Red    | False |    NA | Undiscovered | <!----> | False | 5.79 | 203.0 |  45 | two_wings        |\n",
       "| 718 | Zygarde    | Dragon   | Ground | 600 | 108 | 100 | 121 |  81 |  95 | ... | Green  | False |    NA | Undiscovered | <!----> | False | 5.00 | 305.0 |   3 | serpentine_body  |\n",
       "| 719 | Diancie    | Rock     | Fairy  | 600 |  50 | 100 | 150 | 100 | 150 | ... | Pink   | False |    NA | Undiscovered | <!----> | True  | 0.71 |   8.8 |   3 | head_arms        |\n",
       "| 720 | Hoopa      | Psychic  | Ghost  | 600 |  80 | 110 |  60 | 150 | 130 | ... | Purple | False |    NA | Undiscovered | <!----> | False | 0.51 |   9.0 |   3 | head_only        |\n",
       "| 721 | Volcanion  | Fire     | Water  | 600 |  80 | 110 | 120 | 130 |  90 | ... | Brown  | False |    NA | Undiscovered | <!----> | False | 1.70 | 195.0 |   3 | quadruped        |\n",
       "\n"
      ],
      "text/plain": [
       "    Number Name       Type_1   Type_2 Total HP  Attack Defense Sp_Atk Sp_Def\n",
       "1    1     Bulbasaur  Grass    Poison 318   45   49     49      65     65   \n",
       "2    2     Ivysaur    Grass    Poison 405   60   62     63      80     80   \n",
       "3    3     Venusaur   Grass    Poison 525   80   82     83     100    100   \n",
       "4    4     Charmander Fire            309   39   52     43      60     50   \n",
       "5    5     Charmeleon Fire            405   58   64     58      80     65   \n",
       "6    6     Charizard  Fire     Flying 534   78   84     78     109     85   \n",
       "7    7     Squirtle   Water           314   44   48     65      50     64   \n",
       "8    8     Wartortle  Water           405   59   63     80      65     80   \n",
       "9    9     Blastoise  Water           530   79   83    100      85    105   \n",
       "10  10     Caterpie   Bug             195   45   30     35      20     20   \n",
       "11  11     Metapod    Bug             205   50   20     55      25     25   \n",
       "12  12     Butterfree Bug      Flying 395   60   45     50      90     80   \n",
       "13  13     Weedle     Bug      Poison 195   40   35     30      20     20   \n",
       "14  14     Kakuna     Bug      Poison 205   45   25     50      25     25   \n",
       "15  15     Beedrill   Bug      Poison 395   65   90     40      45     80   \n",
       "16  16     Pidgey     Normal   Flying 251   40   45     40      35     35   \n",
       "17  17     Pidgeotto  Normal   Flying 349   63   60     55      50     50   \n",
       "18  18     Pidgeot    Normal   Flying 479   83   80     75      70     70   \n",
       "19  19     Rattata    Normal          253   30   56     35      25     35   \n",
       "20  20     Raticate   Normal          413   55   81     60      50     70   \n",
       "21  21     Spearow    Normal   Flying 262   40   60     30      31     31   \n",
       "22  22     Fearow     Normal   Flying 442   65   90     65      61     61   \n",
       "23  23     Ekans      Poison          288   35   60     44      40     54   \n",
       "24  24     Arbok      Poison          438   60   85     69      65     79   \n",
       "25  25     Pikachu    Electric        320   35   55     40      50     50   \n",
       "26  26     Raichu     Electric        485   60   90     55      90     80   \n",
       "27  27     Sandshrew  Ground          300   50   75     85      20     30   \n",
       "28  28     Sandslash  Ground          450   75  100    110      45     55   \n",
       "29  29     Nidoranâ\\231\\200 Poison          275   55   47     52      40     40   \n",
       "30  30     Nidorina   Poison          365   70   62     67      55     55   \n",
       "... ...    ...        ...      ...    ...   ... ...    ...     ...    ...   \n",
       "692 692    Clauncher  Water           330    50  53     62      58     63   \n",
       "693 693    Clawitzer  Water           500    71  73     88     120     89   \n",
       "694 694    Helioptile Electric Normal 289    44  38     33      61     43   \n",
       "695 695    Heliolisk  Electric Normal 481    62  55     52     109     94   \n",
       "696 696    Tyrunt     Rock     Dragon 362    58  89     77      45     45   \n",
       "697 697    Tyrantrum  Rock     Dragon 521    82 121    119      69     59   \n",
       "698 698    Amaura     Rock     Ice    362    77  59     50      67     63   \n",
       "699 699    Aurorus    Rock     Ice    521   123  77     72      99     92   \n",
       "700 700    Sylveon    Fairy           525    95  65     65     110    130   \n",
       "701 701    Hawlucha   Fighting Flying 500    78  92     75      74     63   \n",
       "702 702    Dedenne    Electric Fairy  431    67  58     57      81     67   \n",
       "703 703    Carbink    Rock     Fairy  500    50  50    150      50    150   \n",
       "704 704    Goomy      Dragon          300    45  50     35      55     75   \n",
       "705 705    Sliggoo    Dragon          452    68  75     53      83    113   \n",
       "706 706    Goodra     Dragon          600    90 100     70     110    150   \n",
       "707 707    Klefki     Steel    Fairy  470    57  80     91      80     87   \n",
       "708 708    Phantump   Ghost    Grass  309    43  70     48      50     60   \n",
       "709 709    Trevenant  Ghost    Grass  474    85 110     76      65     82   \n",
       "710 710    Pumpkaboo  Ghost    Grass  335    49  66     70      44     55   \n",
       "711 711    Gourgeist  Ghost    Grass  494    65  90    122      58     75   \n",
       "712 712    Bergmite   Ice             304    55  69     85      32     35   \n",
       "713 713    Avalugg    Ice             514    95 117    184      44     46   \n",
       "714 714    Noibat     Flying   Dragon 245    40  30     35      45     40   \n",
       "715 715    Noivern    Flying   Dragon 535    85  70     80      97     80   \n",
       "716 716    Xerneas    Fairy           680   126 131     95     131     98   \n",
       "717 717    Yveltal    Dark     Flying 680   126 131     95     131     98   \n",
       "718 718    Zygarde    Dragon   Ground 600   108 100    121      81     95   \n",
       "719 719    Diancie    Rock     Fairy  600    50 100    150     100    150   \n",
       "720 720    Hoopa      Psychic  Ghost  600    80 110     60     150    130   \n",
       "721 721    Volcanion  Fire     Water  600    80 110    120     130     90   \n",
       "    ... Color  hasGender Pr_Male Egg_Group_1  Egg_Group_2 hasMegaEvolution\n",
       "1   ... Green  True      0.875   Monster      Grass       False           \n",
       "2   ... Green  True      0.875   Monster      Grass       False           \n",
       "3   ... Green  True      0.875   Monster      Grass       True            \n",
       "4   ... Red    True      0.875   Monster      Dragon      False           \n",
       "5   ... Red    True      0.875   Monster      Dragon      False           \n",
       "6   ... Red    True      0.875   Monster      Dragon      True            \n",
       "7   ... Blue   True      0.875   Monster      Water_1     False           \n",
       "8   ... Blue   True      0.875   Monster      Water_1     False           \n",
       "9   ... Blue   True      0.875   Monster      Water_1     True            \n",
       "10  ... Green  True      0.500   Bug                      False           \n",
       "11  ... Green  True      0.500   Bug                      False           \n",
       "12  ... White  True      0.500   Bug                      False           \n",
       "13  ... Brown  True      0.500   Bug                      False           \n",
       "14  ... Yellow True      0.500   Bug                      False           \n",
       "15  ... Yellow True      0.500   Bug                      True            \n",
       "16  ... Brown  True      0.500   Flying                   False           \n",
       "17  ... Brown  True      0.500   Flying                   False           \n",
       "18  ... Brown  True      0.500   Flying                   True            \n",
       "19  ... Purple True      0.500   Field                    False           \n",
       "20  ... Brown  True      0.500   Field                    False           \n",
       "21  ... Brown  True      0.500   Flying                   False           \n",
       "22  ... Brown  True      0.500   Flying                   False           \n",
       "23  ... Purple True      0.500   Field        Dragon      False           \n",
       "24  ... Purple True      0.500   Field        Dragon      False           \n",
       "25  ... Yellow True      0.500   Field        Fairy       False           \n",
       "26  ... Yellow True      0.500   Field        Fairy       False           \n",
       "27  ... Yellow True      0.500   Field                    False           \n",
       "28  ... Yellow True      0.500   Field                    False           \n",
       "29  ... Blue   True      0.000   Monster      Field       False           \n",
       "30  ... Blue   True      0.000   Undiscovered             False           \n",
       "...     ...    ...       ...     ...          ...         ...             \n",
       "692 ... Blue   True      0.500   Water_1      Water_3     False           \n",
       "693 ... Blue   True      0.500   Water_1      Water_3     False           \n",
       "694 ... Yellow True      0.500   Monster      Dragon      False           \n",
       "695 ... Yellow True      0.500   Monster      Dragon      False           \n",
       "696 ... Brown  True      0.875   Monster      Dragon      False           \n",
       "697 ... Red    True      0.875   Monster      Dragon      False           \n",
       "698 ... Blue   True      0.875   Monster                  False           \n",
       "699 ... Blue   True      0.875   Monster                  False           \n",
       "700 ... Pink   True      0.875   Field                    False           \n",
       "701 ... Green  True      0.500   Human-Like               False           \n",
       "702 ... Yellow True      0.500   Field        Fairy       False           \n",
       "703 ... Grey   False        NA   Fairy        Mineral     False           \n",
       "704 ... Purple True      0.500   Dragon                   False           \n",
       "705 ... Purple True      0.500   Dragon                   False           \n",
       "706 ... Purple True      0.500   Dragon                   False           \n",
       "707 ... Grey   True      0.500   Mineral                  False           \n",
       "708 ... Brown  True      0.500   Grass        Amorphous   False           \n",
       "709 ... Brown  True      0.500   Grass        Amorphous   False           \n",
       "710 ... Brown  True      0.500   Amorphous                False           \n",
       "711 ... Brown  True      0.500   Amorphous                False           \n",
       "712 ... Blue   True      0.500   Monster                  False           \n",
       "713 ... Blue   True      0.500   Monster                  False           \n",
       "714 ... Purple True      0.500   Flying                   False           \n",
       "715 ... Purple True      0.500   Flying                   False           \n",
       "716 ... Blue   False        NA   Undiscovered             False           \n",
       "717 ... Red    False        NA   Undiscovered             False           \n",
       "718 ... Green  False        NA   Undiscovered             False           \n",
       "719 ... Pink   False        NA   Undiscovered             True            \n",
       "720 ... Purple False        NA   Undiscovered             False           \n",
       "721 ... Brown  False        NA   Undiscovered             False           \n",
       "    Height_m Weight_kg Catch_Rate Body_Style      \n",
       "1   0.71       6.9      45        quadruped       \n",
       "2   0.99      13.0      45        quadruped       \n",
       "3   2.01     100.0      45        quadruped       \n",
       "4   0.61       8.5      45        bipedal_tailed  \n",
       "5   1.09      19.0      45        bipedal_tailed  \n",
       "6   1.70      90.5      45        bipedal_tailed  \n",
       "7   0.51       9.0      45        bipedal_tailed  \n",
       "8   0.99      22.5      45        bipedal_tailed  \n",
       "9   1.60      85.5      45        bipedal_tailed  \n",
       "10  0.30       2.9     255        insectoid       \n",
       "11  0.71       9.9     120        serpentine_body \n",
       "12  1.09      32.0      45        four_wings      \n",
       "13  0.30       3.2     255        serpentine_body \n",
       "14  0.61      10.0     120        serpentine_body \n",
       "15  0.99      29.5      45        four_wings      \n",
       "16  0.30       1.8     255        two_wings       \n",
       "17  1.09      30.0     120        two_wings       \n",
       "18  1.50      39.5      45        two_wings       \n",
       "19  0.30       3.5     255        quadruped       \n",
       "20  0.71      18.5     127        quadruped       \n",
       "21  0.30       2.0     255        two_wings       \n",
       "22  1.19      38.0      90        two_wings       \n",
       "23  2.01       6.9     255        serpentine_body \n",
       "24  3.51      65.0      90        serpentine_body \n",
       "25  0.41       6.0     190        quadruped       \n",
       "26  0.79      30.0      75        bipedal_tailed  \n",
       "27  0.61      12.0     255        bipedal_tailed  \n",
       "28  0.99      29.5      90        bipedal_tailed  \n",
       "29  0.41       7.0     235        quadruped       \n",
       "30  0.79      20.0     120        quadruped       \n",
       "... ...      ...       ...        ...             \n",
       "692 0.51       8.3     225        insectoid       \n",
       "693 1.30      35.3      55        serpentine_body \n",
       "694 0.51       6.0     190        bipedal_tailed  \n",
       "695 0.99      21.0      75        bipedal_tailed  \n",
       "696 0.79      26.0      45        bipedal_tailed  \n",
       "697 2.49     270.0      45        bipedal_tailed  \n",
       "698 1.30      25.2      45        quadruped       \n",
       "699 2.69     225.0      45        quadruped       \n",
       "700 0.99      23.5      45        quadruped       \n",
       "701 0.79      21.5     100        bipedal_tailless\n",
       "702 0.20       2.2     180        bipedal_tailed  \n",
       "703 0.30       5.7      60        head_only       \n",
       "704 0.30       2.8      45        serpentine_body \n",
       "705 0.79      17.5      45        serpentine_body \n",
       "706 2.01     150.5      45        bipedal_tailed  \n",
       "707 0.20       3.0      75        head_only       \n",
       "708 0.41       7.0     120        head_arms       \n",
       "709 1.50      71.0      60        several_limbs   \n",
       "710 0.41       5.0     120        head_only       \n",
       "711 1.70      39.0      60        head_base       \n",
       "712 0.99      99.5     190        quadruped       \n",
       "713 2.01     505.0      55        quadruped       \n",
       "714 0.51       8.0     190        two_wings       \n",
       "715 1.50      85.0      45        two_wings       \n",
       "716 3.00     215.0      45        quadruped       \n",
       "717 5.79     203.0      45        two_wings       \n",
       "718 5.00     305.0       3        serpentine_body \n",
       "719 0.71       8.8       3        head_arms       \n",
       "720 0.51       9.0       3        head_only       \n",
       "721 1.70     195.0       3        quadruped       "
      ]
     },
     "metadata": {},
     "output_type": "display_data"
    }
   ],
   "source": [
    "data"
   ]
  },
  {
   "cell_type": "code",
   "execution_count": 7,
   "metadata": {},
   "outputs": [
    {
     "data": {
      "text/html": [
       "<ol class=list-inline>\n",
       "\t<li>'Number'</li>\n",
       "\t<li>'Name'</li>\n",
       "\t<li>'Type_1'</li>\n",
       "\t<li>'Type_2'</li>\n",
       "\t<li>'Total'</li>\n",
       "\t<li>'HP'</li>\n",
       "\t<li>'Attack'</li>\n",
       "\t<li>'Defense'</li>\n",
       "\t<li>'Sp_Atk'</li>\n",
       "\t<li>'Sp_Def'</li>\n",
       "\t<li>'Speed'</li>\n",
       "\t<li>'Generation'</li>\n",
       "\t<li>'isLegendary'</li>\n",
       "\t<li>'Color'</li>\n",
       "\t<li>'hasGender'</li>\n",
       "\t<li>'Pr_Male'</li>\n",
       "\t<li>'Egg_Group_1'</li>\n",
       "\t<li>'Egg_Group_2'</li>\n",
       "\t<li>'hasMegaEvolution'</li>\n",
       "\t<li>'Height_m'</li>\n",
       "\t<li>'Weight_kg'</li>\n",
       "\t<li>'Catch_Rate'</li>\n",
       "\t<li>'Body_Style'</li>\n",
       "</ol>\n"
      ],
      "text/latex": [
       "\\begin{enumerate*}\n",
       "\\item 'Number'\n",
       "\\item 'Name'\n",
       "\\item 'Type\\_1'\n",
       "\\item 'Type\\_2'\n",
       "\\item 'Total'\n",
       "\\item 'HP'\n",
       "\\item 'Attack'\n",
       "\\item 'Defense'\n",
       "\\item 'Sp\\_Atk'\n",
       "\\item 'Sp\\_Def'\n",
       "\\item 'Speed'\n",
       "\\item 'Generation'\n",
       "\\item 'isLegendary'\n",
       "\\item 'Color'\n",
       "\\item 'hasGender'\n",
       "\\item 'Pr\\_Male'\n",
       "\\item 'Egg\\_Group\\_1'\n",
       "\\item 'Egg\\_Group\\_2'\n",
       "\\item 'hasMegaEvolution'\n",
       "\\item 'Height\\_m'\n",
       "\\item 'Weight\\_kg'\n",
       "\\item 'Catch\\_Rate'\n",
       "\\item 'Body\\_Style'\n",
       "\\end{enumerate*}\n"
      ],
      "text/markdown": [
       "1. 'Number'\n",
       "2. 'Name'\n",
       "3. 'Type_1'\n",
       "4. 'Type_2'\n",
       "5. 'Total'\n",
       "6. 'HP'\n",
       "7. 'Attack'\n",
       "8. 'Defense'\n",
       "9. 'Sp_Atk'\n",
       "10. 'Sp_Def'\n",
       "11. 'Speed'\n",
       "12. 'Generation'\n",
       "13. 'isLegendary'\n",
       "14. 'Color'\n",
       "15. 'hasGender'\n",
       "16. 'Pr_Male'\n",
       "17. 'Egg_Group_1'\n",
       "18. 'Egg_Group_2'\n",
       "19. 'hasMegaEvolution'\n",
       "20. 'Height_m'\n",
       "21. 'Weight_kg'\n",
       "22. 'Catch_Rate'\n",
       "23. 'Body_Style'\n",
       "\n",
       "\n"
      ],
      "text/plain": [
       " [1] \"Number\"           \"Name\"             \"Type_1\"           \"Type_2\"          \n",
       " [5] \"Total\"            \"HP\"               \"Attack\"           \"Defense\"         \n",
       " [9] \"Sp_Atk\"           \"Sp_Def\"           \"Speed\"            \"Generation\"      \n",
       "[13] \"isLegendary\"      \"Color\"            \"hasGender\"        \"Pr_Male\"         \n",
       "[17] \"Egg_Group_1\"      \"Egg_Group_2\"      \"hasMegaEvolution\" \"Height_m\"        \n",
       "[21] \"Weight_kg\"        \"Catch_Rate\"       \"Body_Style\"      "
      ]
     },
     "metadata": {},
     "output_type": "display_data"
    }
   ],
   "source": [
    "names(data)"
   ]
  },
  {
   "cell_type": "code",
   "execution_count": 8,
   "metadata": {},
   "outputs": [],
   "source": [
    "df <- data[c(5,6,7,8,9,10,11,13,15,20,21,22)]"
   ]
  },
  {
   "cell_type": "code",
   "execution_count": 21,
   "metadata": {},
   "outputs": [
    {
     "name": "stdout",
     "output_type": "stream",
     "text": [
      "'data.frame':\t721 obs. of  12 variables:\n",
      " $ Total      : int  318 405 525 309 405 534 314 405 530 195 ...\n",
      " $ HP         : int  45 60 80 39 58 78 44 59 79 45 ...\n",
      " $ Attack     : int  49 62 82 52 64 84 48 63 83 30 ...\n",
      " $ Defense    : int  49 63 83 43 58 78 65 80 100 35 ...\n",
      " $ Sp_Atk     : int  65 80 100 60 80 109 50 65 85 20 ...\n",
      " $ Sp_Def     : int  65 80 100 50 65 85 64 80 105 20 ...\n",
      " $ Speed      : int  45 60 80 65 80 100 43 58 78 45 ...\n",
      " $ isLegendary: Factor w/ 2 levels \"False\",\"True\": 1 1 1 1 1 1 1 1 1 1 ...\n",
      " $ hasGender  : Factor w/ 2 levels \"False\",\"True\": 2 2 2 2 2 2 2 2 2 2 ...\n",
      " $ Height_m   : num  0.71 0.99 2.01 0.61 1.09 1.7 0.51 0.99 1.6 0.3 ...\n",
      " $ Weight_kg  : num  6.9 13 100 8.5 19 90.5 9 22.5 85.5 2.9 ...\n",
      " $ Catch_Rate : int  45 45 45 45 45 45 45 45 45 255 ...\n"
     ]
    }
   ],
   "source": [
    "str(df)"
   ]
  },
  {
   "cell_type": "code",
   "execution_count": 11,
   "metadata": {},
   "outputs": [],
   "source": [
    "smp_size <- floor(nrow(df)*0.75)\n",
    "train_data <- sample(seq_len(nrow(df)),size=smp_size)\n",
    "set.seed(123)\n",
    "train <- df[train_data,]\n",
    "test <- df[-train_data,]"
   ]
  },
  {
   "cell_type": "code",
   "execution_count": 12,
   "metadata": {},
   "outputs": [
    {
     "data": {
      "text/html": [
       "540"
      ],
      "text/latex": [
       "540"
      ],
      "text/markdown": [
       "540"
      ],
      "text/plain": [
       "[1] 540"
      ]
     },
     "metadata": {},
     "output_type": "display_data"
    },
    {
     "data": {
      "text/html": [
       "181"
      ],
      "text/latex": [
       "181"
      ],
      "text/markdown": [
       "181"
      ],
      "text/plain": [
       "[1] 181"
      ]
     },
     "metadata": {},
     "output_type": "display_data"
    }
   ],
   "source": [
    "nrow(train)\n",
    "nrow(test)"
   ]
  },
  {
   "cell_type": "code",
   "execution_count": 13,
   "metadata": {},
   "outputs": [
    {
     "data": {
      "text/html": [
       "<table>\n",
       "<caption>A data.frame: 6 × 12</caption>\n",
       "<thead>\n",
       "\t<tr><th></th><th scope=col>Total</th><th scope=col>HP</th><th scope=col>Attack</th><th scope=col>Defense</th><th scope=col>Sp_Atk</th><th scope=col>Sp_Def</th><th scope=col>Speed</th><th scope=col>isLegendary</th><th scope=col>hasGender</th><th scope=col>Height_m</th><th scope=col>Weight_kg</th><th scope=col>Catch_Rate</th></tr>\n",
       "\t<tr><th></th><th scope=col>&lt;int&gt;</th><th scope=col>&lt;int&gt;</th><th scope=col>&lt;int&gt;</th><th scope=col>&lt;int&gt;</th><th scope=col>&lt;int&gt;</th><th scope=col>&lt;int&gt;</th><th scope=col>&lt;int&gt;</th><th scope=col>&lt;fct&gt;</th><th scope=col>&lt;fct&gt;</th><th scope=col>&lt;dbl&gt;</th><th scope=col>&lt;dbl&gt;</th><th scope=col>&lt;int&gt;</th></tr>\n",
       "</thead>\n",
       "<tbody>\n",
       "\t<tr><th scope=row>7</th><td>314</td><td>44</td><td> 48</td><td>65</td><td> 50</td><td>64</td><td>43</td><td>False</td><td>True </td><td>0.51</td><td>  9.0</td><td> 45</td></tr>\n",
       "\t<tr><th scope=row>604</th><td>515</td><td>85</td><td>115</td><td>80</td><td>105</td><td>80</td><td>50</td><td>False</td><td>True </td><td>2.11</td><td> 80.5</td><td> 30</td></tr>\n",
       "\t<tr><th scope=row>460</th><td>494</td><td>90</td><td> 92</td><td>75</td><td> 92</td><td>85</td><td>60</td><td>False</td><td>True </td><td>2.21</td><td>135.5</td><td> 60</td></tr>\n",
       "\t<tr><th scope=row>191</th><td>180</td><td>30</td><td> 30</td><td>30</td><td> 30</td><td>30</td><td>30</td><td>False</td><td>True </td><td>0.30</td><td>  1.8</td><td>235</td></tr>\n",
       "\t<tr><th scope=row>137</th><td>395</td><td>65</td><td> 60</td><td>70</td><td> 85</td><td>75</td><td>40</td><td>False</td><td>False</td><td>0.79</td><td> 36.5</td><td> 45</td></tr>\n",
       "\t<tr><th scope=row>529</th><td>328</td><td>60</td><td> 85</td><td>40</td><td> 30</td><td>45</td><td>68</td><td>False</td><td>True </td><td>0.30</td><td>  8.5</td><td>120</td></tr>\n",
       "</tbody>\n",
       "</table>\n"
      ],
      "text/latex": [
       "A data.frame: 6 × 12\n",
       "\\begin{tabular}{r|llllllllllll}\n",
       "  & Total & HP & Attack & Defense & Sp\\_Atk & Sp\\_Def & Speed & isLegendary & hasGender & Height\\_m & Weight\\_kg & Catch\\_Rate\\\\\n",
       "  & <int> & <int> & <int> & <int> & <int> & <int> & <int> & <fct> & <fct> & <dbl> & <dbl> & <int>\\\\\n",
       "\\hline\n",
       "\t7 & 314 & 44 &  48 & 65 &  50 & 64 & 43 & False & True  & 0.51 &   9.0 &  45\\\\\n",
       "\t604 & 515 & 85 & 115 & 80 & 105 & 80 & 50 & False & True  & 2.11 &  80.5 &  30\\\\\n",
       "\t460 & 494 & 90 &  92 & 75 &  92 & 85 & 60 & False & True  & 2.21 & 135.5 &  60\\\\\n",
       "\t191 & 180 & 30 &  30 & 30 &  30 & 30 & 30 & False & True  & 0.30 &   1.8 & 235\\\\\n",
       "\t137 & 395 & 65 &  60 & 70 &  85 & 75 & 40 & False & False & 0.79 &  36.5 &  45\\\\\n",
       "\t529 & 328 & 60 &  85 & 40 &  30 & 45 & 68 & False & True  & 0.30 &   8.5 & 120\\\\\n",
       "\\end{tabular}\n"
      ],
      "text/markdown": [
       "\n",
       "A data.frame: 6 × 12\n",
       "\n",
       "| <!--/--> | Total &lt;int&gt; | HP &lt;int&gt; | Attack &lt;int&gt; | Defense &lt;int&gt; | Sp_Atk &lt;int&gt; | Sp_Def &lt;int&gt; | Speed &lt;int&gt; | isLegendary &lt;fct&gt; | hasGender &lt;fct&gt; | Height_m &lt;dbl&gt; | Weight_kg &lt;dbl&gt; | Catch_Rate &lt;int&gt; |\n",
       "|---|---|---|---|---|---|---|---|---|---|---|---|---|\n",
       "| 7 | 314 | 44 |  48 | 65 |  50 | 64 | 43 | False | True  | 0.51 |   9.0 |  45 |\n",
       "| 604 | 515 | 85 | 115 | 80 | 105 | 80 | 50 | False | True  | 2.11 |  80.5 |  30 |\n",
       "| 460 | 494 | 90 |  92 | 75 |  92 | 85 | 60 | False | True  | 2.21 | 135.5 |  60 |\n",
       "| 191 | 180 | 30 |  30 | 30 |  30 | 30 | 30 | False | True  | 0.30 |   1.8 | 235 |\n",
       "| 137 | 395 | 65 |  60 | 70 |  85 | 75 | 40 | False | False | 0.79 |  36.5 |  45 |\n",
       "| 529 | 328 | 60 |  85 | 40 |  30 | 45 | 68 | False | True  | 0.30 |   8.5 | 120 |\n",
       "\n"
      ],
      "text/plain": [
       "    Total HP Attack Defense Sp_Atk Sp_Def Speed isLegendary hasGender Height_m\n",
       "7   314   44  48    65       50    64     43    False       True      0.51    \n",
       "604 515   85 115    80      105    80     50    False       True      2.11    \n",
       "460 494   90  92    75       92    85     60    False       True      2.21    \n",
       "191 180   30  30    30       30    30     30    False       True      0.30    \n",
       "137 395   65  60    70       85    75     40    False       False     0.79    \n",
       "529 328   60  85    40       30    45     68    False       True      0.30    \n",
       "    Weight_kg Catch_Rate\n",
       "7     9.0      45       \n",
       "604  80.5      30       \n",
       "460 135.5      60       \n",
       "191   1.8     235       \n",
       "137  36.5      45       \n",
       "529   8.5     120       "
      ]
     },
     "metadata": {},
     "output_type": "display_data"
    }
   ],
   "source": [
    "head(train)"
   ]
  },
  {
   "cell_type": "code",
   "execution_count": 15,
   "metadata": {},
   "outputs": [
    {
     "name": "stderr",
     "output_type": "stream",
     "text": [
      "Warning message:\n",
      "\"position_stack requires non-overlapping x intervals\""
     ]
    },
    {
     "data": {
      "image/png": "[encoded data removed]",
      "text/plain": [
       "plot without title"
      ]
     },
     "metadata": {},
     "output_type": "display_data"
    }
   ],
   "source": [
    "ggplot(train,aes(Sp_Atk,fill=isLegendary)) + geom_bar(alpha=0.5)"
   ]
  },
  {
   "cell_type": "code",
   "execution_count": 16,
   "metadata": {},
   "outputs": [
    {
     "data": {
      "image/png": "[encoded data removed]",
      "text/plain": [
       "plot without title"
      ]
     },
     "metadata": {},
     "output_type": "display_data"
    }
   ],
   "source": [
    "ggplot(train,aes(HP,fill=isLegendary)) + geom_bar(alpha=0.5)"
   ]
  },
  {
   "cell_type": "code",
   "execution_count": 23,
   "metadata": {},
   "outputs": [
    {
     "data": {
      "image/png": "[encoded data removed]",
      "text/plain": [
       "Plot with title \"\""
      ]
     },
     "metadata": {},
     "output_type": "display_data"
    }
   ],
   "source": [
    "corrplot(cor(df[c(1,2,3,4,5,6,7,10,11,12)]),method = 'number')"
   ]
  },
  {
   "cell_type": "code",
   "execution_count": 24,
   "metadata": {},
   "outputs": [
    {
     "name": "stderr",
     "output_type": "stream",
     "text": [
      "Warning message:\n",
      "\"position_stack requires non-overlapping x intervals\""
     ]
    },
    {
     "data": {
      "image/png": "[encoded data removed]",
      "text/plain": [
       "plot without title"
      ]
     },
     "metadata": {},
     "output_type": "display_data"
    }
   ],
   "source": [
    "ggplot(train,aes(Catch_Rate,fill=isLegendary)) + geom_bar(alpha=0.5)"
   ]
  },
  {
   "cell_type": "code",
   "execution_count": 37,
   "metadata": {},
   "outputs": [],
   "source": [
    "tree <- rpart(isLegendary ~ Height_m+Weight_kg+Catch_Rate,data = train,method = 'class')"
   ]
  },
  {
   "cell_type": "code",
   "execution_count": 38,
   "metadata": {},
   "outputs": [
    {
     "name": "stdout",
     "output_type": "stream",
     "text": [
      "Call:\n",
      "rpart(formula = isLegendary ~ Height_m + Weight_kg + Catch_Rate, \n",
      "    data = train, method = \"class\")\n",
      "  n= 540 \n",
      "\n",
      "         CP nsplit rel error    xerror       xstd\n",
      "1 0.7333333      0 1.0000000 1.0000000 0.17743022\n",
      "2 0.0100000      1 0.2666667 0.2666667 0.09357992\n",
      "\n",
      "Variable importance\n",
      "Catch_Rate  Weight_kg \n",
      "        92          8 \n",
      "\n",
      "Node number 1: 540 observations,    complexity param=0.7333333\n",
      "  predicted class=False  expected loss=0.05555556  P(node) =1\n",
      "    class counts:   510    30\n",
      "   probabilities: 0.944 0.056 \n",
      "  left son=2 (506 obs) right son=3 (34 obs)\n",
      "  Primary splits:\n",
      "      Catch_Rate < 9     to the right, improve=42.800120, (0 missing)\n",
      "      Weight_kg  < 171.5 to the left,  improve=12.161830, (0 missing)\n",
      "      Height_m   < 1.855 to the left,  improve= 8.065844, (0 missing)\n",
      "  Surrogate splits:\n",
      "      Weight_kg < 310   to the left,  agree=0.943, adj=0.088, (0 split)\n",
      "\n",
      "Node number 2: 506 observations\n",
      "  predicted class=False  expected loss=0.003952569  P(node) =0.937037\n",
      "    class counts:   504     2\n",
      "   probabilities: 0.996 0.004 \n",
      "\n",
      "Node number 3: 34 observations\n",
      "  predicted class=True   expected loss=0.1764706  P(node) =0.06296296\n",
      "    class counts:     6    28\n",
      "   probabilities: 0.176 0.824 \n",
      "\n"
     ]
    }
   ],
   "source": [
    "summary(tree)"
   ]
  },
  {
   "cell_type": "code",
   "execution_count": 49,
   "metadata": {},
   "outputs": [
    {
     "data": {
      "image/png": "[encoded data removed]",
      "text/plain": [
       "plot without title"
      ]
     },
     "metadata": {},
     "output_type": "display_data"
    }
   ],
   "source": [
    "rpart.plot(tree)"
   ]
  },
  {
   "cell_type": "code",
   "execution_count": 74,
   "metadata": {},
   "outputs": [],
   "source": [
    "treepred <- predict(tree,test,method='class')\n"
   ]
  },
  {
   "cell_type": "code",
   "execution_count": 84,
   "metadata": {},
   "outputs": [
    {
     "ename": "ERROR",
     "evalue": "Error in confusionMatrix.default(as.factor(treepred), test$isLegendary): the data cannot have more levels than the reference\n",
     "output_type": "error",
     "traceback": [
      "Error in confusionMatrix.default(as.factor(treepred), test$isLegendary): the data cannot have more levels than the reference\nTraceback:\n",
      "1. confusionMatrix(as.factor(treepred), test$isLegendary)",
      "2. confusionMatrix.default(as.factor(treepred), test$isLegendary)",
      "3. stop(\"the data cannot have more levels than the reference\")"
     ]
    }
   ],
   "source": [
    "confusionMatrix(as.factor(treepred),test$isLegendary)"
   ]
  },
  {
   "cell_type": "code",
   "execution_count": 75,
   "metadata": {},
   "outputs": [
    {
     "name": "stderr",
     "output_type": "stream",
     "text": [
      "Warning message in randomForest.default(m, y, ...):\n",
      "\"invalid mtry: reset to within valid range\""
     ]
    }
   ],
   "source": [
    "set.seed(1234567)\n",
    "randmodel <- randomForest(isLegendary~ Height_m+Weight_kg+Catch_Rate,train,ntree = 2000, mtry = 6, importance = TRUE)"
   ]
  },
  {
   "cell_type": "code",
   "execution_count": 76,
   "metadata": {},
   "outputs": [
    {
     "data": {
      "image/png": "[encoded data removed]",
      "text/plain": [
       "plot without title"
      ]
     },
     "metadata": {},
     "output_type": "display_data"
    }
   ],
   "source": [
    "varImpPlot(randmodel)"
   ]
  },
  {
   "cell_type": "code",
   "execution_count": 77,
   "metadata": {},
   "outputs": [
    {
     "data": {
      "text/plain": [
       "                Length Class  Mode     \n",
       "call               6   -none- call     \n",
       "type               1   -none- character\n",
       "predicted        540   factor numeric  \n",
       "err.rate        6000   -none- numeric  \n",
       "confusion          6   -none- numeric  \n",
       "votes           1080   matrix numeric  \n",
       "oob.times        540   -none- numeric  \n",
       "classes            2   -none- character\n",
       "importance        12   -none- numeric  \n",
       "importanceSD       9   -none- numeric  \n",
       "localImportance    0   -none- NULL     \n",
       "proximity          0   -none- NULL     \n",
       "ntree              1   -none- numeric  \n",
       "mtry               1   -none- numeric  \n",
       "forest            14   -none- list     \n",
       "y                540   factor numeric  \n",
       "test               0   -none- NULL     \n",
       "inbag              0   -none- NULL     \n",
       "terms              3   terms  call     "
      ]
     },
     "metadata": {},
     "output_type": "display_data"
    }
   ],
   "source": [
    "summary(randmodel)"
   ]
  },
  {
   "cell_type": "code",
   "execution_count": 78,
   "metadata": {},
   "outputs": [],
   "source": [
    "rndpre <- predict(randmodel,test,type='class')\n",
    "test$rndpred <- NULL"
   ]
  },
  {
   "cell_type": "code",
   "execution_count": 79,
   "metadata": {},
   "outputs": [
    {
     "name": "stdout",
     "output_type": "stream",
     "text": [
      "'data.frame':\t181 obs. of  12 variables:\n",
      " $ Total      : int  405 205 205 395 251 262 288 320 300 450 ...\n",
      " $ HP         : int  59 50 45 65 40 40 35 35 50 75 ...\n",
      " $ Attack     : int  63 20 25 90 45 60 60 55 75 100 ...\n",
      " $ Defense    : int  80 55 50 40 40 30 44 40 85 110 ...\n",
      " $ Sp_Atk     : int  65 25 25 45 35 31 40 50 20 45 ...\n",
      " $ Sp_Def     : int  80 25 25 80 35 31 54 50 30 55 ...\n",
      " $ Speed      : int  58 30 35 75 56 70 55 90 40 65 ...\n",
      " $ isLegendary: Factor w/ 2 levels \"False\",\"True\": 1 1 1 1 1 1 1 1 1 1 ...\n",
      " $ hasGender  : Factor w/ 2 levels \"False\",\"True\": 2 2 2 2 2 2 2 2 2 2 ...\n",
      " $ Height_m   : num  0.99 0.71 0.61 0.99 0.3 0.3 2.01 0.41 0.61 0.99 ...\n",
      " $ Weight_kg  : num  22.5 9.9 10 29.5 1.8 2 6.9 6 12 29.5 ...\n",
      " $ Catch_Rate : int  45 120 120 45 255 255 255 190 255 90 ...\n"
     ]
    }
   ],
   "source": [
    "str(test)"
   ]
  },
  {
   "cell_type": "code",
   "execution_count": 80,
   "metadata": {},
   "outputs": [
    {
     "data": {
      "text/html": [
       "<table>\n",
       "<caption>A tibble: 1 × 1</caption>\n",
       "<thead>\n",
       "\t<tr><th scope=col>n</th></tr>\n",
       "\t<tr><th scope=col>&lt;int&gt;</th></tr>\n",
       "</thead>\n",
       "<tbody>\n",
       "\t<tr><td>15</td></tr>\n",
       "</tbody>\n",
       "</table>\n"
      ],
      "text/latex": [
       "A tibble: 1 × 1\n",
       "\\begin{tabular}{r|l}\n",
       " n\\\\\n",
       " <int>\\\\\n",
       "\\hline\n",
       "\t 15\\\\\n",
       "\\end{tabular}\n"
      ],
      "text/markdown": [
       "\n",
       "A tibble: 1 × 1\n",
       "\n",
       "| n &lt;int&gt; |\n",
       "|---|\n",
       "| 15 |\n",
       "\n"
      ],
      "text/plain": [
       "  n \n",
       "1 15"
      ]
     },
     "metadata": {},
     "output_type": "display_data"
    }
   ],
   "source": [
    "test %>% filter(as.numeric(rndpred)==2) %>% count()"
   ]
  },
  {
   "cell_type": "code",
   "execution_count": 81,
   "metadata": {},
   "outputs": [
    {
     "data": {
      "text/plain": [
       "Confusion Matrix and Statistics\n",
       "\n",
       "          Reference\n",
       "Prediction False True\n",
       "     False   164    2\n",
       "     True      1   14\n",
       "                                          \n",
       "               Accuracy : 0.9834          \n",
       "                 95% CI : (0.9523, 0.9966)\n",
       "    No Information Rate : 0.9116          \n",
       "    P-Value [Acc > NIR] : 5.614e-05       \n",
       "                                          \n",
       "                  Kappa : 0.8942          \n",
       "                                          \n",
       " Mcnemar's Test P-Value : 1               \n",
       "                                          \n",
       "            Sensitivity : 0.9939          \n",
       "            Specificity : 0.8750          \n",
       "         Pos Pred Value : 0.9880          \n",
       "         Neg Pred Value : 0.9333          \n",
       "             Prevalence : 0.9116          \n",
       "         Detection Rate : 0.9061          \n",
       "   Detection Prevalence : 0.9171          \n",
       "      Balanced Accuracy : 0.9345          \n",
       "                                          \n",
       "       'Positive' Class : False           \n",
       "                                          "
      ]
     },
     "metadata": {},
     "output_type": "display_data"
    }
   ],
   "source": [
    "confusionMatrix(rndpred,test$isLegendary)"
   ]
  }
 ],
 "metadata": {
  "kernelspec": {
   "display_name": "R",
   "language": "R",
   "name": "ir33"
  },
  "language_info": {
   "codemirror_mode": "r",
   "file_extension": ".r",
   "mimetype": "text/x-r-source",
   "name": "R",
   "pygments_lexer": "r",
   "version": "3.6.1"
  }
 },
 "nbformat": 4,
 "nbformat_minor": 2
}
